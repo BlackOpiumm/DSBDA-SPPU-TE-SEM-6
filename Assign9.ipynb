{
  "cells": [
    {
      "cell_type": "code",
      "execution_count": 2,
      "id": "910fc911-adc1-4e44-bd68-aedb374f2768",
      "metadata": {
        "trusted": true
      },
      "outputs": [
        {
          "name": "stdout",
          "output_type": "stream",
          "text": [
            "Requirement already satisfied: requests in c:\\users\\blackopium\\appdata\\local\\programs\\python\\python313\\lib\\site-packages (2.32.3)\n",
            "Requirement already satisfied: beautifulsoup4 in c:\\users\\blackopium\\appdata\\local\\programs\\python\\python313\\lib\\site-packages (4.13.4)\n",
            "Requirement already satisfied: charset-normalizer<4,>=2 in c:\\users\\blackopium\\appdata\\local\\programs\\python\\python313\\lib\\site-packages (from requests) (3.4.2)\n",
            "Requirement already satisfied: idna<4,>=2.5 in c:\\users\\blackopium\\appdata\\local\\programs\\python\\python313\\lib\\site-packages (from requests) (3.10)\n",
            "Requirement already satisfied: urllib3<3,>=1.21.1 in c:\\users\\blackopium\\appdata\\local\\programs\\python\\python313\\lib\\site-packages (from requests) (2.4.0)\n",
            "Requirement already satisfied: certifi>=2017.4.17 in c:\\users\\blackopium\\appdata\\local\\programs\\python\\python313\\lib\\site-packages (from requests) (2025.4.26)\n",
            "Requirement already satisfied: soupsieve>1.2 in c:\\users\\blackopium\\appdata\\local\\programs\\python\\python313\\lib\\site-packages (from beautifulsoup4) (2.7)\n",
            "Requirement already satisfied: typing-extensions>=4.0.0 in c:\\users\\blackopium\\appdata\\local\\programs\\python\\python313\\lib\\site-packages (from beautifulsoup4) (4.13.2)\n",
            "Note: you may need to restart the kernel to use updated packages.\n"
          ]
        },
        {
          "name": "stderr",
          "output_type": "stream",
          "text": [
            "\n",
            "[notice] A new release of pip is available: 25.0.1 -> 25.1.1\n",
            "[notice] To update, run: python.exe -m pip install --upgrade pip\n"
          ]
        }
      ],
      "source": [
        "%pip install requests beautifulsoup4"
      ]
    },
    {
      "cell_type": "code",
      "execution_count": 3,
      "id": "9c1dbeec-ae6b-4dd2-a95b-272966890815",
      "metadata": {
        "trusted": true
      },
      "outputs": [
        {
          "name": "stdout",
          "output_type": "stream",
          "text": [
            "Customer Name: Roshni Sheikh\n",
            "Rating: 5\n",
            "Review: Bht achcha hai,, jitna socha tha usse bhi mst h 😘😘😘😘🤩🤩🤩\n",
            "Tag: Not available in static HTML\n",
            "------------------------------------------------------------\n",
            "Customer Name: mayagarg\n",
            "Rating: 5\n",
            "Review: Bahut hi pyari sendle h ekdm fit aai h mere per pr amazing 😍 tq meesho ❤️\n",
            "Tag: Not available in static HTML\n",
            "------------------------------------------------------------\n"
          ]
        }
      ],
      "source": [
        "import requests\n",
        "from bs4 import BeautifulSoup\n",
        "import json\n",
        "\n",
        "# Step 1: Load the URL\n",
        "url = 'https://www.meesho.com/stylish-casual-block-heels-for-women/p/5y67ap'\n",
        "response = requests.get(url)\n",
        "soup = BeautifulSoup(response.content, 'html.parser')\n",
        "\n",
        "# Step 2: Find the <script> tag with review data\n",
        "scripts = soup.find_all('script', type='application/ld+json')\n",
        "\n",
        "# Step 3: Extract and print reviews\n",
        "for script in scripts:\n",
        "    try:\n",
        "        data = json.loads(script.string)\n",
        "        if \"review\" in data:\n",
        "            for review in data[\"review\"]:\n",
        "                print(f\"Customer Name: {review['author']['name']}\")\n",
        "                print(f\"Rating: {review['reviewRating']['ratingValue']}\")\n",
        "                print(f\"Review: {review['reviewBody']}\")\n",
        "                print(\"Tag: Not available in static HTML\")\n",
        "                print(\"-\" * 60)\n",
        "    except Exception as e:\n",
        "        continue"
      ]
    },
    {
      "cell_type": "code",
      "execution_count": null,
      "id": "ff1ff00d",
      "metadata": {},
      "outputs": [],
      "source": []
    }
  ],
  "metadata": {
    "kernelspec": {
      "display_name": "Python 3",
      "language": "python",
      "name": "python3"
    },
    "language_info": {
      "codemirror_mode": {
        "name": "ipython",
        "version": 3
      },
      "file_extension": ".py",
      "mimetype": "text/x-python",
      "name": "python",
      "nbconvert_exporter": "python",
      "pygments_lexer": "ipython3",
      "version": "3.13.3"
    }
  },
  "nbformat": 4,
  "nbformat_minor": 5
}
