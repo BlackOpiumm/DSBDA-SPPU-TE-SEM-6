{
  "metadata": {
    "kernelspec": {
      "name": "python",
      "display_name": "Python (Pyodide)",
      "language": "python"
    },
    "language_info": {
      "codemirror_mode": {
        "name": "python",
        "version": 3
      },
      "file_extension": ".py",
      "mimetype": "text/x-python",
      "name": "python",
      "nbconvert_exporter": "python",
      "pygments_lexer": "ipython3",
      "version": "3.8"
    }
  },
  "nbformat_minor": 5,
  "nbformat": 4,
  "cells": [
    {
      "id": "7931180e-317f-4481-8943-d151adc61d50",
      "cell_type": "code",
      "source": "import pandas as pd",
      "metadata": {
        "trusted": true
      },
      "outputs": [],
      "execution_count": 42
    },
    {
      "id": "7032fee7-c177-43eb-95dd-4f997b1c7f6d",
      "cell_type": "code",
      "source": "df=pd.read_csv('fb.csv')",
      "metadata": {
        "trusted": true
      },
      "outputs": [],
      "execution_count": 43
    },
    {
      "id": "3a882bd3-1b02-4a2c-9b95-cfe59c0743f4",
      "cell_type": "code",
      "source": "df",
      "metadata": {
        "trusted": true
      },
      "outputs": [
        {
          "execution_count": 44,
          "output_type": "execute_result",
          "data": {
            "text/plain": "     Page total likes    Type  Category  Post Month  Post Weekday  Post Hour  \\\n0              139441   Photo         2          12             4          3   \n1              139441  Status         2          12             3         10   \n2              139441   Photo         3          12             3          3   \n3              139441   Photo         2          12             2         10   \n4              139441   Photo         2          12             2          3   \n..                ...     ...       ...         ...           ...        ...   \n244            130791   Photo         2           7             3          5   \n245            130791   Photo         1           7             2         13   \n246            130791   Photo         2           7             2          8   \n247            129600   Photo         2           7             1         12   \n248            129600   Photo         3           7             1          6   \n\n     Paid  Lifetime Post Total Reach  Lifetime Post Total Impressions  \\\n0       0                       2752                             5091   \n1       0                      10460                            19057   \n2       0                       2413                             4373   \n3       1                      50128                            87991   \n4       0                       7244                            13594   \n..    ...                        ...                              ...   \n244     1                     180480                           319133   \n245     0                      44464                            66824   \n246     0                       2881                             5188   \n247     0                       3460                             6503   \n248     0                       3406                             5656   \n\n     Lifetime Engaged Users  Lifetime Post Consumers  \\\n0                       178                      109   \n1                      1457                     1361   \n2                       177                      113   \n3                      2211                      790   \n4                       671                      410   \n..                      ...                      ...   \n244                    8072                     4010   \n245                    1052                      930   \n246                     550                      503   \n247                     541                      482   \n248                     571                      512   \n\n     Lifetime Post Consumptions  \\\n0                           159   \n1                          1674   \n2                           154   \n3                          1119   \n4                           580   \n..                          ...   \n244                        6242   \n245                        1571   \n246                         730   \n247                         667   \n248                         731   \n\n     Lifetime Post Impressions by people who have liked your Page  \\\n0                                                 3078              \n1                                                11710              \n2                                                 2812              \n3                                                61027              \n4                                                 6228              \n..                                                 ...              \n244                                             108752              \n245                                              22904              \n246                                               3840              \n247                                               4371              \n248                                               4446              \n\n     Lifetime Post reach by people who like your Page  \\\n0                                                1640   \n1                                                6112   \n2                                                1503   \n3                                               32048   \n4                                                3200   \n..                                                ...   \n244                                             51456   \n245                                             14080   \n246                                              2040   \n247                                              2260   \n248                                              2598   \n\n     Lifetime People who have liked your Page and engaged with your post  \\\n0                                                  119                     \n1                                                 1108                     \n2                                                  132                     \n3                                                 1386                     \n4                                                  396                     \n..                                                 ...                     \n244                                               3316                     \n245                                                559                     \n246                                                323                     \n247                                                314                     \n248                                                355                     \n\n     comment    like  share  Total Interactions  \n0          4    79.0   17.0                 100  \n1          5   130.0   29.0                 164  \n2          0    66.0   14.0                  80  \n3         58  1572.0  147.0                1777  \n4         19   325.0   49.0                 393  \n..       ...     ...    ...                 ...  \n244      372  5172.0  790.0                6334  \n245        4   154.0   30.0                 188  \n246        0    73.0   15.0                  88  \n247        0    96.0   19.0                 115  \n248        1    98.0   19.0                 118  \n\n[249 rows x 19 columns]",
            "text/html": "<div>\n<style scoped>\n    .dataframe tbody tr th:only-of-type {\n        vertical-align: middle;\n    }\n\n    .dataframe tbody tr th {\n        vertical-align: top;\n    }\n\n    .dataframe thead th {\n        text-align: right;\n    }\n</style>\n<table border=\"1\" class=\"dataframe\">\n  <thead>\n    <tr style=\"text-align: right;\">\n      <th></th>\n      <th>Page total likes</th>\n      <th>Type</th>\n      <th>Category</th>\n      <th>Post Month</th>\n      <th>Post Weekday</th>\n      <th>Post Hour</th>\n      <th>Paid</th>\n      <th>Lifetime Post Total Reach</th>\n      <th>Lifetime Post Total Impressions</th>\n      <th>Lifetime Engaged Users</th>\n      <th>Lifetime Post Consumers</th>\n      <th>Lifetime Post Consumptions</th>\n      <th>Lifetime Post Impressions by people who have liked your Page</th>\n      <th>Lifetime Post reach by people who like your Page</th>\n      <th>Lifetime People who have liked your Page and engaged with your post</th>\n      <th>comment</th>\n      <th>like</th>\n      <th>share</th>\n      <th>Total Interactions</th>\n    </tr>\n  </thead>\n  <tbody>\n    <tr>\n      <th>0</th>\n      <td>139441</td>\n      <td>Photo</td>\n      <td>2</td>\n      <td>12</td>\n      <td>4</td>\n      <td>3</td>\n      <td>0</td>\n      <td>2752</td>\n      <td>5091</td>\n      <td>178</td>\n      <td>109</td>\n      <td>159</td>\n      <td>3078</td>\n      <td>1640</td>\n      <td>119</td>\n      <td>4</td>\n      <td>79.0</td>\n      <td>17.0</td>\n      <td>100</td>\n    </tr>\n    <tr>\n      <th>1</th>\n      <td>139441</td>\n      <td>Status</td>\n      <td>2</td>\n      <td>12</td>\n      <td>3</td>\n      <td>10</td>\n      <td>0</td>\n      <td>10460</td>\n      <td>19057</td>\n      <td>1457</td>\n      <td>1361</td>\n      <td>1674</td>\n      <td>11710</td>\n      <td>6112</td>\n      <td>1108</td>\n      <td>5</td>\n      <td>130.0</td>\n      <td>29.0</td>\n      <td>164</td>\n    </tr>\n    <tr>\n      <th>2</th>\n      <td>139441</td>\n      <td>Photo</td>\n      <td>3</td>\n      <td>12</td>\n      <td>3</td>\n      <td>3</td>\n      <td>0</td>\n      <td>2413</td>\n      <td>4373</td>\n      <td>177</td>\n      <td>113</td>\n      <td>154</td>\n      <td>2812</td>\n      <td>1503</td>\n      <td>132</td>\n      <td>0</td>\n      <td>66.0</td>\n      <td>14.0</td>\n      <td>80</td>\n    </tr>\n    <tr>\n      <th>3</th>\n      <td>139441</td>\n      <td>Photo</td>\n      <td>2</td>\n      <td>12</td>\n      <td>2</td>\n      <td>10</td>\n      <td>1</td>\n      <td>50128</td>\n      <td>87991</td>\n      <td>2211</td>\n      <td>790</td>\n      <td>1119</td>\n      <td>61027</td>\n      <td>32048</td>\n      <td>1386</td>\n      <td>58</td>\n      <td>1572.0</td>\n      <td>147.0</td>\n      <td>1777</td>\n    </tr>\n    <tr>\n      <th>4</th>\n      <td>139441</td>\n      <td>Photo</td>\n      <td>2</td>\n      <td>12</td>\n      <td>2</td>\n      <td>3</td>\n      <td>0</td>\n      <td>7244</td>\n      <td>13594</td>\n      <td>671</td>\n      <td>410</td>\n      <td>580</td>\n      <td>6228</td>\n      <td>3200</td>\n      <td>396</td>\n      <td>19</td>\n      <td>325.0</td>\n      <td>49.0</td>\n      <td>393</td>\n    </tr>\n    <tr>\n      <th>...</th>\n      <td>...</td>\n      <td>...</td>\n      <td>...</td>\n      <td>...</td>\n      <td>...</td>\n      <td>...</td>\n      <td>...</td>\n      <td>...</td>\n      <td>...</td>\n      <td>...</td>\n      <td>...</td>\n      <td>...</td>\n      <td>...</td>\n      <td>...</td>\n      <td>...</td>\n      <td>...</td>\n      <td>...</td>\n      <td>...</td>\n      <td>...</td>\n    </tr>\n    <tr>\n      <th>244</th>\n      <td>130791</td>\n      <td>Photo</td>\n      <td>2</td>\n      <td>7</td>\n      <td>3</td>\n      <td>5</td>\n      <td>1</td>\n      <td>180480</td>\n      <td>319133</td>\n      <td>8072</td>\n      <td>4010</td>\n      <td>6242</td>\n      <td>108752</td>\n      <td>51456</td>\n      <td>3316</td>\n      <td>372</td>\n      <td>5172.0</td>\n      <td>790.0</td>\n      <td>6334</td>\n    </tr>\n    <tr>\n      <th>245</th>\n      <td>130791</td>\n      <td>Photo</td>\n      <td>1</td>\n      <td>7</td>\n      <td>2</td>\n      <td>13</td>\n      <td>0</td>\n      <td>44464</td>\n      <td>66824</td>\n      <td>1052</td>\n      <td>930</td>\n      <td>1571</td>\n      <td>22904</td>\n      <td>14080</td>\n      <td>559</td>\n      <td>4</td>\n      <td>154.0</td>\n      <td>30.0</td>\n      <td>188</td>\n    </tr>\n    <tr>\n      <th>246</th>\n      <td>130791</td>\n      <td>Photo</td>\n      <td>2</td>\n      <td>7</td>\n      <td>2</td>\n      <td>8</td>\n      <td>0</td>\n      <td>2881</td>\n      <td>5188</td>\n      <td>550</td>\n      <td>503</td>\n      <td>730</td>\n      <td>3840</td>\n      <td>2040</td>\n      <td>323</td>\n      <td>0</td>\n      <td>73.0</td>\n      <td>15.0</td>\n      <td>88</td>\n    </tr>\n    <tr>\n      <th>247</th>\n      <td>129600</td>\n      <td>Photo</td>\n      <td>2</td>\n      <td>7</td>\n      <td>1</td>\n      <td>12</td>\n      <td>0</td>\n      <td>3460</td>\n      <td>6503</td>\n      <td>541</td>\n      <td>482</td>\n      <td>667</td>\n      <td>4371</td>\n      <td>2260</td>\n      <td>314</td>\n      <td>0</td>\n      <td>96.0</td>\n      <td>19.0</td>\n      <td>115</td>\n    </tr>\n    <tr>\n      <th>248</th>\n      <td>129600</td>\n      <td>Photo</td>\n      <td>3</td>\n      <td>7</td>\n      <td>1</td>\n      <td>6</td>\n      <td>0</td>\n      <td>3406</td>\n      <td>5656</td>\n      <td>571</td>\n      <td>512</td>\n      <td>731</td>\n      <td>4446</td>\n      <td>2598</td>\n      <td>355</td>\n      <td>1</td>\n      <td>98.0</td>\n      <td>19.0</td>\n      <td>118</td>\n    </tr>\n  </tbody>\n</table>\n<p>249 rows × 19 columns</p>\n</div>"
          },
          "metadata": {}
        }
      ],
      "execution_count": 44
    },
    {
      "id": "2eed1550-8cf7-404a-81c7-dc5ebaf3afa1",
      "cell_type": "code",
      "source": "df.shape",
      "metadata": {
        "trusted": true
      },
      "outputs": [
        {
          "execution_count": 45,
          "output_type": "execute_result",
          "data": {
            "text/plain": "(249, 19)"
          },
          "metadata": {}
        }
      ],
      "execution_count": 45
    },
    {
      "id": "47575d7e-7984-4fc5-a362-a278b40c6ccb",
      "cell_type": "code",
      "source": "df.head()",
      "metadata": {
        "trusted": true
      },
      "outputs": [
        {
          "execution_count": 46,
          "output_type": "execute_result",
          "data": {
            "text/plain": "   Page total likes    Type  Category  Post Month  Post Weekday  Post Hour  \\\n0            139441   Photo         2          12             4          3   \n1            139441  Status         2          12             3         10   \n2            139441   Photo         3          12             3          3   \n3            139441   Photo         2          12             2         10   \n4            139441   Photo         2          12             2          3   \n\n   Paid  Lifetime Post Total Reach  Lifetime Post Total Impressions  \\\n0     0                       2752                             5091   \n1     0                      10460                            19057   \n2     0                       2413                             4373   \n3     1                      50128                            87991   \n4     0                       7244                            13594   \n\n   Lifetime Engaged Users  Lifetime Post Consumers  \\\n0                     178                      109   \n1                    1457                     1361   \n2                     177                      113   \n3                    2211                      790   \n4                     671                      410   \n\n   Lifetime Post Consumptions  \\\n0                         159   \n1                        1674   \n2                         154   \n3                        1119   \n4                         580   \n\n   Lifetime Post Impressions by people who have liked your Page  \\\n0                                               3078              \n1                                              11710              \n2                                               2812              \n3                                              61027              \n4                                               6228              \n\n   Lifetime Post reach by people who like your Page  \\\n0                                              1640   \n1                                              6112   \n2                                              1503   \n3                                             32048   \n4                                              3200   \n\n   Lifetime People who have liked your Page and engaged with your post  \\\n0                                                119                     \n1                                               1108                     \n2                                                132                     \n3                                               1386                     \n4                                                396                     \n\n   comment    like  share  Total Interactions  \n0        4    79.0   17.0                 100  \n1        5   130.0   29.0                 164  \n2        0    66.0   14.0                  80  \n3       58  1572.0  147.0                1777  \n4       19   325.0   49.0                 393  ",
            "text/html": "<div>\n<style scoped>\n    .dataframe tbody tr th:only-of-type {\n        vertical-align: middle;\n    }\n\n    .dataframe tbody tr th {\n        vertical-align: top;\n    }\n\n    .dataframe thead th {\n        text-align: right;\n    }\n</style>\n<table border=\"1\" class=\"dataframe\">\n  <thead>\n    <tr style=\"text-align: right;\">\n      <th></th>\n      <th>Page total likes</th>\n      <th>Type</th>\n      <th>Category</th>\n      <th>Post Month</th>\n      <th>Post Weekday</th>\n      <th>Post Hour</th>\n      <th>Paid</th>\n      <th>Lifetime Post Total Reach</th>\n      <th>Lifetime Post Total Impressions</th>\n      <th>Lifetime Engaged Users</th>\n      <th>Lifetime Post Consumers</th>\n      <th>Lifetime Post Consumptions</th>\n      <th>Lifetime Post Impressions by people who have liked your Page</th>\n      <th>Lifetime Post reach by people who like your Page</th>\n      <th>Lifetime People who have liked your Page and engaged with your post</th>\n      <th>comment</th>\n      <th>like</th>\n      <th>share</th>\n      <th>Total Interactions</th>\n    </tr>\n  </thead>\n  <tbody>\n    <tr>\n      <th>0</th>\n      <td>139441</td>\n      <td>Photo</td>\n      <td>2</td>\n      <td>12</td>\n      <td>4</td>\n      <td>3</td>\n      <td>0</td>\n      <td>2752</td>\n      <td>5091</td>\n      <td>178</td>\n      <td>109</td>\n      <td>159</td>\n      <td>3078</td>\n      <td>1640</td>\n      <td>119</td>\n      <td>4</td>\n      <td>79.0</td>\n      <td>17.0</td>\n      <td>100</td>\n    </tr>\n    <tr>\n      <th>1</th>\n      <td>139441</td>\n      <td>Status</td>\n      <td>2</td>\n      <td>12</td>\n      <td>3</td>\n      <td>10</td>\n      <td>0</td>\n      <td>10460</td>\n      <td>19057</td>\n      <td>1457</td>\n      <td>1361</td>\n      <td>1674</td>\n      <td>11710</td>\n      <td>6112</td>\n      <td>1108</td>\n      <td>5</td>\n      <td>130.0</td>\n      <td>29.0</td>\n      <td>164</td>\n    </tr>\n    <tr>\n      <th>2</th>\n      <td>139441</td>\n      <td>Photo</td>\n      <td>3</td>\n      <td>12</td>\n      <td>3</td>\n      <td>3</td>\n      <td>0</td>\n      <td>2413</td>\n      <td>4373</td>\n      <td>177</td>\n      <td>113</td>\n      <td>154</td>\n      <td>2812</td>\n      <td>1503</td>\n      <td>132</td>\n      <td>0</td>\n      <td>66.0</td>\n      <td>14.0</td>\n      <td>80</td>\n    </tr>\n    <tr>\n      <th>3</th>\n      <td>139441</td>\n      <td>Photo</td>\n      <td>2</td>\n      <td>12</td>\n      <td>2</td>\n      <td>10</td>\n      <td>1</td>\n      <td>50128</td>\n      <td>87991</td>\n      <td>2211</td>\n      <td>790</td>\n      <td>1119</td>\n      <td>61027</td>\n      <td>32048</td>\n      <td>1386</td>\n      <td>58</td>\n      <td>1572.0</td>\n      <td>147.0</td>\n      <td>1777</td>\n    </tr>\n    <tr>\n      <th>4</th>\n      <td>139441</td>\n      <td>Photo</td>\n      <td>2</td>\n      <td>12</td>\n      <td>2</td>\n      <td>3</td>\n      <td>0</td>\n      <td>7244</td>\n      <td>13594</td>\n      <td>671</td>\n      <td>410</td>\n      <td>580</td>\n      <td>6228</td>\n      <td>3200</td>\n      <td>396</td>\n      <td>19</td>\n      <td>325.0</td>\n      <td>49.0</td>\n      <td>393</td>\n    </tr>\n  </tbody>\n</table>\n</div>"
          },
          "metadata": {}
        }
      ],
      "execution_count": 46
    },
    {
      "id": "ae956be9-ca25-4c41-81e4-2abe66a41188",
      "cell_type": "code",
      "source": "df.info()",
      "metadata": {
        "trusted": true
      },
      "outputs": [
        {
          "name": "stdout",
          "output_type": "stream",
          "text": "<class 'pandas.core.frame.DataFrame'>\nRangeIndex: 249 entries, 0 to 248\nData columns (total 19 columns):\n #   Column                                                               Non-Null Count  Dtype  \n---  ------                                                               --------------  -----  \n 0   Page total likes                                                     249 non-null    int64  \n 1   Type                                                                 249 non-null    object \n 2   Category                                                             249 non-null    int64  \n 3   Post Month                                                           249 non-null    int64  \n 4   Post Weekday                                                         249 non-null    int64  \n 5   Post Hour                                                            249 non-null    int64  \n 6   Paid                                                                 249 non-null    int64  \n 7   Lifetime Post Total Reach                                            249 non-null    int64  \n 8   Lifetime Post Total Impressions                                      249 non-null    int64  \n 9   Lifetime Engaged Users                                               249 non-null    int64  \n 10  Lifetime Post Consumers                                              249 non-null    int64  \n 11  Lifetime Post Consumptions                                           249 non-null    int64  \n 12  Lifetime Post Impressions by people who have liked your Page         249 non-null    int64  \n 13  Lifetime Post reach by people who like your Page                     249 non-null    int64  \n 14  Lifetime People who have liked your Page and engaged with your post  249 non-null    int64  \n 15  comment                                                              249 non-null    int64  \n 16  like                                                                 248 non-null    float64\n 17  share                                                                245 non-null    float64\n 18  Total Interactions                                                   249 non-null    int64  \ndtypes: float64(2), int64(16), object(1)\nmemory usage: 36.1+ KB\n"
        }
      ],
      "execution_count": 47
    },
    {
      "id": "a6ce1aaa-f72f-4d17-ad81-5ac84191a397",
      "cell_type": "code",
      "source": "df.iloc[[1,2,5,6],[2,5,6]]",
      "metadata": {
        "trusted": true
      },
      "outputs": [
        {
          "execution_count": 48,
          "output_type": "execute_result",
          "data": {
            "text/plain": "   Category  Post Hour  Paid\n1         2         10     0\n2         3          3     0\n5         2          9     0\n6         3          3     1",
            "text/html": "<div>\n<style scoped>\n    .dataframe tbody tr th:only-of-type {\n        vertical-align: middle;\n    }\n\n    .dataframe tbody tr th {\n        vertical-align: top;\n    }\n\n    .dataframe thead th {\n        text-align: right;\n    }\n</style>\n<table border=\"1\" class=\"dataframe\">\n  <thead>\n    <tr style=\"text-align: right;\">\n      <th></th>\n      <th>Category</th>\n      <th>Post Hour</th>\n      <th>Paid</th>\n    </tr>\n  </thead>\n  <tbody>\n    <tr>\n      <th>1</th>\n      <td>2</td>\n      <td>10</td>\n      <td>0</td>\n    </tr>\n    <tr>\n      <th>2</th>\n      <td>3</td>\n      <td>3</td>\n      <td>0</td>\n    </tr>\n    <tr>\n      <th>5</th>\n      <td>2</td>\n      <td>9</td>\n      <td>0</td>\n    </tr>\n    <tr>\n      <th>6</th>\n      <td>3</td>\n      <td>3</td>\n      <td>1</td>\n    </tr>\n  </tbody>\n</table>\n</div>"
          },
          "metadata": {}
        }
      ],
      "execution_count": 48
    },
    {
      "id": "12f4194d-876f-4fb6-b834-d028217ea10e",
      "cell_type": "code",
      "source": "df.iloc[-1::-1,1:9:3]",
      "metadata": {
        "trusted": true
      },
      "outputs": [
        {
          "execution_count": 51,
          "output_type": "execute_result",
          "data": {
            "text/plain": "       Type  Post Weekday  Lifetime Post Total Reach\n248   Photo             1                       3406\n247   Photo             1                       3460\n246   Photo             2                       2881\n245   Photo             2                      44464\n244   Photo             3                     180480\n..      ...           ...                        ...\n4     Photo             2                       7244\n3     Photo             2                      50128\n2     Photo             3                       2413\n1    Status             3                      10460\n0     Photo             4                       2752\n\n[249 rows x 3 columns]",
            "text/html": "<div>\n<style scoped>\n    .dataframe tbody tr th:only-of-type {\n        vertical-align: middle;\n    }\n\n    .dataframe tbody tr th {\n        vertical-align: top;\n    }\n\n    .dataframe thead th {\n        text-align: right;\n    }\n</style>\n<table border=\"1\" class=\"dataframe\">\n  <thead>\n    <tr style=\"text-align: right;\">\n      <th></th>\n      <th>Type</th>\n      <th>Post Weekday</th>\n      <th>Lifetime Post Total Reach</th>\n    </tr>\n  </thead>\n  <tbody>\n    <tr>\n      <th>248</th>\n      <td>Photo</td>\n      <td>1</td>\n      <td>3406</td>\n    </tr>\n    <tr>\n      <th>247</th>\n      <td>Photo</td>\n      <td>1</td>\n      <td>3460</td>\n    </tr>\n    <tr>\n      <th>246</th>\n      <td>Photo</td>\n      <td>2</td>\n      <td>2881</td>\n    </tr>\n    <tr>\n      <th>245</th>\n      <td>Photo</td>\n      <td>2</td>\n      <td>44464</td>\n    </tr>\n    <tr>\n      <th>244</th>\n      <td>Photo</td>\n      <td>3</td>\n      <td>180480</td>\n    </tr>\n    <tr>\n      <th>...</th>\n      <td>...</td>\n      <td>...</td>\n      <td>...</td>\n    </tr>\n    <tr>\n      <th>4</th>\n      <td>Photo</td>\n      <td>2</td>\n      <td>7244</td>\n    </tr>\n    <tr>\n      <th>3</th>\n      <td>Photo</td>\n      <td>2</td>\n      <td>50128</td>\n    </tr>\n    <tr>\n      <th>2</th>\n      <td>Photo</td>\n      <td>3</td>\n      <td>2413</td>\n    </tr>\n    <tr>\n      <th>1</th>\n      <td>Status</td>\n      <td>3</td>\n      <td>10460</td>\n    </tr>\n    <tr>\n      <th>0</th>\n      <td>Photo</td>\n      <td>4</td>\n      <td>2752</td>\n    </tr>\n  </tbody>\n</table>\n<p>249 rows × 3 columns</p>\n</div>"
          },
          "metadata": {}
        }
      ],
      "execution_count": 51
    },
    {
      "id": "b0663e80-c2e7-4803-a3bd-d16464a3a319",
      "cell_type": "code",
      "source": "df.columns.to_list()",
      "metadata": {
        "trusted": true
      },
      "outputs": [
        {
          "execution_count": 52,
          "output_type": "execute_result",
          "data": {
            "text/plain": "['Page total likes',\n 'Type',\n 'Category',\n 'Post Month',\n 'Post Weekday',\n 'Post Hour',\n 'Paid',\n 'Lifetime Post Total Reach',\n 'Lifetime Post Total Impressions',\n 'Lifetime Engaged Users',\n 'Lifetime Post Consumers',\n 'Lifetime Post Consumptions',\n 'Lifetime Post Impressions by people who have liked your Page',\n 'Lifetime Post reach by people who like your Page',\n 'Lifetime People who have liked your Page and engaged with your post',\n 'comment',\n 'like',\n 'share',\n 'Total Interactions']"
          },
          "metadata": {}
        }
      ],
      "execution_count": 52
    },
    {
      "id": "e4b8a117-1d44-46cc-82b9-cb91e2dbab87",
      "cell_type": "code",
      "source": "df.loc[3]",
      "metadata": {
        "trusted": true
      },
      "outputs": [
        {
          "execution_count": 53,
          "output_type": "execute_result",
          "data": {
            "text/plain": "Page total likes                                                       139441\nType                                                                    Photo\nCategory                                                                    2\nPost Month                                                                 12\nPost Weekday                                                                2\nPost Hour                                                                  10\nPaid                                                                        1\nLifetime Post Total Reach                                               50128\nLifetime Post Total Impressions                                         87991\nLifetime Engaged Users                                                   2211\nLifetime Post Consumers                                                   790\nLifetime Post Consumptions                                               1119\nLifetime Post Impressions by people who have liked your Page            61027\nLifetime Post reach by people who like your Page                        32048\nLifetime People who have liked your Page and engaged with your post      1386\ncomment                                                                    58\nlike                                                                   1572.0\nshare                                                                   147.0\nTotal Interactions                                                       1777\nName: 3, dtype: object"
          },
          "metadata": {}
        }
      ],
      "execution_count": 53
    },
    {
      "id": "2b2522a3-0eda-4192-b973-10e3a2c4f2b5",
      "cell_type": "code",
      "source": "#1.Creating Subset\nsubset=df.loc[:,['Page total likes','Type','Post Month','comment','like','share']]\nsubset.head()",
      "metadata": {
        "trusted": true
      },
      "outputs": [
        {
          "execution_count": 54,
          "output_type": "execute_result",
          "data": {
            "text/plain": "   Page total likes    Type  Post Month  comment    like  share\n0            139441   Photo          12        4    79.0   17.0\n1            139441  Status          12        5   130.0   29.0\n2            139441   Photo          12        0    66.0   14.0\n3            139441   Photo          12       58  1572.0  147.0\n4            139441   Photo          12       19   325.0   49.0",
            "text/html": "<div>\n<style scoped>\n    .dataframe tbody tr th:only-of-type {\n        vertical-align: middle;\n    }\n\n    .dataframe tbody tr th {\n        vertical-align: top;\n    }\n\n    .dataframe thead th {\n        text-align: right;\n    }\n</style>\n<table border=\"1\" class=\"dataframe\">\n  <thead>\n    <tr style=\"text-align: right;\">\n      <th></th>\n      <th>Page total likes</th>\n      <th>Type</th>\n      <th>Post Month</th>\n      <th>comment</th>\n      <th>like</th>\n      <th>share</th>\n    </tr>\n  </thead>\n  <tbody>\n    <tr>\n      <th>0</th>\n      <td>139441</td>\n      <td>Photo</td>\n      <td>12</td>\n      <td>4</td>\n      <td>79.0</td>\n      <td>17.0</td>\n    </tr>\n    <tr>\n      <th>1</th>\n      <td>139441</td>\n      <td>Status</td>\n      <td>12</td>\n      <td>5</td>\n      <td>130.0</td>\n      <td>29.0</td>\n    </tr>\n    <tr>\n      <th>2</th>\n      <td>139441</td>\n      <td>Photo</td>\n      <td>12</td>\n      <td>0</td>\n      <td>66.0</td>\n      <td>14.0</td>\n    </tr>\n    <tr>\n      <th>3</th>\n      <td>139441</td>\n      <td>Photo</td>\n      <td>12</td>\n      <td>58</td>\n      <td>1572.0</td>\n      <td>147.0</td>\n    </tr>\n    <tr>\n      <th>4</th>\n      <td>139441</td>\n      <td>Photo</td>\n      <td>12</td>\n      <td>19</td>\n      <td>325.0</td>\n      <td>49.0</td>\n    </tr>\n  </tbody>\n</table>\n</div>"
          },
          "metadata": {}
        }
      ],
      "execution_count": 54
    },
    {
      "id": "a169dfed-466c-48dc-a94a-66b7a0cbdbd4",
      "cell_type": "code",
      "source": "#2.Merge\nmerge_df= pd.DataFrame({'Type':['Photo','Status'],'Category':['Virtual','Textual']})\nmerged= pd.merge(subset,merge_df, on='Type', how='left')\nmerged.head()",
      "metadata": {
        "trusted": true
      },
      "outputs": [
        {
          "execution_count": 57,
          "output_type": "execute_result",
          "data": {
            "text/plain": "   Page total likes    Type  Post Month  comment    like  share Category\n0            139441   Photo          12        4    79.0   17.0  Virtual\n1            139441  Status          12        5   130.0   29.0  Textual\n2            139441   Photo          12        0    66.0   14.0  Virtual\n3            139441   Photo          12       58  1572.0  147.0  Virtual\n4            139441   Photo          12       19   325.0   49.0  Virtual",
            "text/html": "<div>\n<style scoped>\n    .dataframe tbody tr th:only-of-type {\n        vertical-align: middle;\n    }\n\n    .dataframe tbody tr th {\n        vertical-align: top;\n    }\n\n    .dataframe thead th {\n        text-align: right;\n    }\n</style>\n<table border=\"1\" class=\"dataframe\">\n  <thead>\n    <tr style=\"text-align: right;\">\n      <th></th>\n      <th>Page total likes</th>\n      <th>Type</th>\n      <th>Post Month</th>\n      <th>comment</th>\n      <th>like</th>\n      <th>share</th>\n      <th>Category</th>\n    </tr>\n  </thead>\n  <tbody>\n    <tr>\n      <th>0</th>\n      <td>139441</td>\n      <td>Photo</td>\n      <td>12</td>\n      <td>4</td>\n      <td>79.0</td>\n      <td>17.0</td>\n      <td>Virtual</td>\n    </tr>\n    <tr>\n      <th>1</th>\n      <td>139441</td>\n      <td>Status</td>\n      <td>12</td>\n      <td>5</td>\n      <td>130.0</td>\n      <td>29.0</td>\n      <td>Textual</td>\n    </tr>\n    <tr>\n      <th>2</th>\n      <td>139441</td>\n      <td>Photo</td>\n      <td>12</td>\n      <td>0</td>\n      <td>66.0</td>\n      <td>14.0</td>\n      <td>Virtual</td>\n    </tr>\n    <tr>\n      <th>3</th>\n      <td>139441</td>\n      <td>Photo</td>\n      <td>12</td>\n      <td>58</td>\n      <td>1572.0</td>\n      <td>147.0</td>\n      <td>Virtual</td>\n    </tr>\n    <tr>\n      <th>4</th>\n      <td>139441</td>\n      <td>Photo</td>\n      <td>12</td>\n      <td>19</td>\n      <td>325.0</td>\n      <td>49.0</td>\n      <td>Virtual</td>\n    </tr>\n  </tbody>\n</table>\n</div>"
          },
          "metadata": {}
        }
      ],
      "execution_count": 57
    },
    {
      "id": "92b2608a-deca-4d0a-93b3-173f3ae190eb",
      "cell_type": "code",
      "source": "#3.Sorting Descending\nsorted_df=merged.sort_values(by='like',ascending=False)\nsorted_df.head()",
      "metadata": {
        "trusted": true
      },
      "outputs": [
        {
          "execution_count": 64,
          "output_type": "execute_result",
          "data": {
            "text/plain": "     Page total likes   Type  Post Month  comment    like  share Category\n244            130791  Photo           7      372  5172.0  790.0  Virtual\n168            135428  Photo           9      144  1622.0  208.0  Virtual\n3              139441  Photo          12       58  1572.0  147.0  Virtual\n101            137020  Photo          10       26  1505.0   95.0  Virtual\n199            132817  Photo           8       33  1155.0  102.0  Virtual",
            "text/html": "<div>\n<style scoped>\n    .dataframe tbody tr th:only-of-type {\n        vertical-align: middle;\n    }\n\n    .dataframe tbody tr th {\n        vertical-align: top;\n    }\n\n    .dataframe thead th {\n        text-align: right;\n    }\n</style>\n<table border=\"1\" class=\"dataframe\">\n  <thead>\n    <tr style=\"text-align: right;\">\n      <th></th>\n      <th>Page total likes</th>\n      <th>Type</th>\n      <th>Post Month</th>\n      <th>comment</th>\n      <th>like</th>\n      <th>share</th>\n      <th>Category</th>\n    </tr>\n  </thead>\n  <tbody>\n    <tr>\n      <th>244</th>\n      <td>130791</td>\n      <td>Photo</td>\n      <td>7</td>\n      <td>372</td>\n      <td>5172.0</td>\n      <td>790.0</td>\n      <td>Virtual</td>\n    </tr>\n    <tr>\n      <th>168</th>\n      <td>135428</td>\n      <td>Photo</td>\n      <td>9</td>\n      <td>144</td>\n      <td>1622.0</td>\n      <td>208.0</td>\n      <td>Virtual</td>\n    </tr>\n    <tr>\n      <th>3</th>\n      <td>139441</td>\n      <td>Photo</td>\n      <td>12</td>\n      <td>58</td>\n      <td>1572.0</td>\n      <td>147.0</td>\n      <td>Virtual</td>\n    </tr>\n    <tr>\n      <th>101</th>\n      <td>137020</td>\n      <td>Photo</td>\n      <td>10</td>\n      <td>26</td>\n      <td>1505.0</td>\n      <td>95.0</td>\n      <td>Virtual</td>\n    </tr>\n    <tr>\n      <th>199</th>\n      <td>132817</td>\n      <td>Photo</td>\n      <td>8</td>\n      <td>33</td>\n      <td>1155.0</td>\n      <td>102.0</td>\n      <td>Virtual</td>\n    </tr>\n  </tbody>\n</table>\n</div>"
          },
          "metadata": {}
        }
      ],
      "execution_count": 64
    },
    {
      "id": "77c8e05f-622c-4788-a214-09ce1828a12c",
      "cell_type": "code",
      "source": "#4.Transpose\nsorted_df.head().T",
      "metadata": {
        "trusted": true
      },
      "outputs": [
        {
          "execution_count": 65,
          "output_type": "execute_result",
          "data": {
            "text/plain": "                      244      168      3        101      199\nPage total likes   130791   135428   139441   137020   132817\nType                Photo    Photo    Photo    Photo    Photo\nPost Month              7        9       12       10        8\ncomment               372      144       58       26       33\nlike               5172.0   1622.0   1572.0   1505.0   1155.0\nshare               790.0    208.0    147.0     95.0    102.0\nCategory          Virtual  Virtual  Virtual  Virtual  Virtual",
            "text/html": "<div>\n<style scoped>\n    .dataframe tbody tr th:only-of-type {\n        vertical-align: middle;\n    }\n\n    .dataframe tbody tr th {\n        vertical-align: top;\n    }\n\n    .dataframe thead th {\n        text-align: right;\n    }\n</style>\n<table border=\"1\" class=\"dataframe\">\n  <thead>\n    <tr style=\"text-align: right;\">\n      <th></th>\n      <th>244</th>\n      <th>168</th>\n      <th>3</th>\n      <th>101</th>\n      <th>199</th>\n    </tr>\n  </thead>\n  <tbody>\n    <tr>\n      <th>Page total likes</th>\n      <td>130791</td>\n      <td>135428</td>\n      <td>139441</td>\n      <td>137020</td>\n      <td>132817</td>\n    </tr>\n    <tr>\n      <th>Type</th>\n      <td>Photo</td>\n      <td>Photo</td>\n      <td>Photo</td>\n      <td>Photo</td>\n      <td>Photo</td>\n    </tr>\n    <tr>\n      <th>Post Month</th>\n      <td>7</td>\n      <td>9</td>\n      <td>12</td>\n      <td>10</td>\n      <td>8</td>\n    </tr>\n    <tr>\n      <th>comment</th>\n      <td>372</td>\n      <td>144</td>\n      <td>58</td>\n      <td>26</td>\n      <td>33</td>\n    </tr>\n    <tr>\n      <th>like</th>\n      <td>5172.0</td>\n      <td>1622.0</td>\n      <td>1572.0</td>\n      <td>1505.0</td>\n      <td>1155.0</td>\n    </tr>\n    <tr>\n      <th>share</th>\n      <td>790.0</td>\n      <td>208.0</td>\n      <td>147.0</td>\n      <td>95.0</td>\n      <td>102.0</td>\n    </tr>\n    <tr>\n      <th>Category</th>\n      <td>Virtual</td>\n      <td>Virtual</td>\n      <td>Virtual</td>\n      <td>Virtual</td>\n      <td>Virtual</td>\n    </tr>\n  </tbody>\n</table>\n</div>"
          },
          "metadata": {}
        }
      ],
      "execution_count": 65
    },
    {
      "id": "257f1881-92df-41f6-8f6a-a5a0d9f895d2",
      "cell_type": "code",
      "source": "#5.shape and Reshape\n##(i)Melting\nmelted=pd.melt(subset.head(), id_vars=['Type'])\nmelted.head()",
      "metadata": {
        "trusted": true
      },
      "outputs": [
        {
          "execution_count": 66,
          "output_type": "execute_result",
          "data": {
            "text/plain": "     Type          variable     value\n0   Photo  Page total likes  139441.0\n1  Status  Page total likes  139441.0\n2   Photo  Page total likes  139441.0\n3   Photo  Page total likes  139441.0\n4   Photo  Page total likes  139441.0",
            "text/html": "<div>\n<style scoped>\n    .dataframe tbody tr th:only-of-type {\n        vertical-align: middle;\n    }\n\n    .dataframe tbody tr th {\n        vertical-align: top;\n    }\n\n    .dataframe thead th {\n        text-align: right;\n    }\n</style>\n<table border=\"1\" class=\"dataframe\">\n  <thead>\n    <tr style=\"text-align: right;\">\n      <th></th>\n      <th>Type</th>\n      <th>variable</th>\n      <th>value</th>\n    </tr>\n  </thead>\n  <tbody>\n    <tr>\n      <th>0</th>\n      <td>Photo</td>\n      <td>Page total likes</td>\n      <td>139441.0</td>\n    </tr>\n    <tr>\n      <th>1</th>\n      <td>Status</td>\n      <td>Page total likes</td>\n      <td>139441.0</td>\n    </tr>\n    <tr>\n      <th>2</th>\n      <td>Photo</td>\n      <td>Page total likes</td>\n      <td>139441.0</td>\n    </tr>\n    <tr>\n      <th>3</th>\n      <td>Photo</td>\n      <td>Page total likes</td>\n      <td>139441.0</td>\n    </tr>\n    <tr>\n      <th>4</th>\n      <td>Photo</td>\n      <td>Page total likes</td>\n      <td>139441.0</td>\n    </tr>\n  </tbody>\n</table>\n</div>"
          },
          "metadata": {}
        }
      ],
      "execution_count": 66
    },
    {
      "id": "95dd61c4-3480-425b-be85-20021d0767fa",
      "cell_type": "code",
      "source": "#5.shape and Reshape\n##(i)Casting (Pivot)\ncasted=melted.pivot_table(index='Type',columns='variable', values='value',aggfunc='first')\ncasted",
      "metadata": {
        "trusted": true
      },
      "outputs": [
        {
          "execution_count": 72,
          "output_type": "execute_result",
          "data": {
            "text/plain": "variable  Page total likes  Post Month  comment   like  share\nType                                                         \nPhoto             139441.0        12.0      4.0   79.0   17.0\nStatus            139441.0        12.0      5.0  130.0   29.0",
            "text/html": "<div>\n<style scoped>\n    .dataframe tbody tr th:only-of-type {\n        vertical-align: middle;\n    }\n\n    .dataframe tbody tr th {\n        vertical-align: top;\n    }\n\n    .dataframe thead th {\n        text-align: right;\n    }\n</style>\n<table border=\"1\" class=\"dataframe\">\n  <thead>\n    <tr style=\"text-align: right;\">\n      <th>variable</th>\n      <th>Page total likes</th>\n      <th>Post Month</th>\n      <th>comment</th>\n      <th>like</th>\n      <th>share</th>\n    </tr>\n    <tr>\n      <th>Type</th>\n      <th></th>\n      <th></th>\n      <th></th>\n      <th></th>\n      <th></th>\n    </tr>\n  </thead>\n  <tbody>\n    <tr>\n      <th>Photo</th>\n      <td>139441.0</td>\n      <td>12.0</td>\n      <td>4.0</td>\n      <td>79.0</td>\n      <td>17.0</td>\n    </tr>\n    <tr>\n      <th>Status</th>\n      <td>139441.0</td>\n      <td>12.0</td>\n      <td>5.0</td>\n      <td>130.0</td>\n      <td>29.0</td>\n    </tr>\n  </tbody>\n</table>\n</div>"
          },
          "metadata": {}
        }
      ],
      "execution_count": 72
    }
  ]
}