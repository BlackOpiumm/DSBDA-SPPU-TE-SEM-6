{
  "metadata": {
    "kernelspec": {
      "name": "python",
      "display_name": "Python (Pyodide)",
      "language": "python"
    },
    "language_info": {
      "codemirror_mode": {
        "name": "python",
        "version": 3
      },
      "file_extension": ".py",
      "mimetype": "text/x-python",
      "name": "python",
      "nbconvert_exporter": "python",
      "pygments_lexer": "ipython3",
      "version": "3.8"
    }
  },
  "nbformat_minor": 5,
  "nbformat": 4,
  "cells": [
    {
      "id": "5694f15b-c764-4285-a1a6-40690144bf51",
      "cell_type": "code",
      "source": "import pandas as pd\nimport numpy as np\nimport matplotlib.pyplot as plt\n\nfrom sklearn.impute import SimpleImputer\n\nfrom sklearn.preprocessing import StandardScaler\nfrom sklearn.preprocessing import MinMaxScaler\nfrom sklearn.preprocessing import Binarizer\n\nfrom sklearn.model_selection import train_test_split\nfrom sklearn.linear_model import LinearRegression\nfrom sklearn.metrics import r2_score, mean_absolute_error, mean_squared_error",
      "metadata": {
        "trusted": true
      },
      "outputs": [],
      "execution_count": 77
    },
    {
      "id": "e98221cd-b07c-4ecb-bda0-1c3ab5416224",
      "cell_type": "code",
      "source": "air=pd.read_csv('airquality.csv')",
      "metadata": {
        "trusted": true
      },
      "outputs": [],
      "execution_count": 78
    },
    {
      "id": "ac1e9e06-efad-4e17-8755-fac0130b07ca",
      "cell_type": "code",
      "source": "air.shape",
      "metadata": {
        "trusted": true
      },
      "outputs": [
        {
          "execution_count": 79,
          "output_type": "execute_result",
          "data": {
            "text/plain": "(153, 7)"
          },
          "metadata": {}
        }
      ],
      "execution_count": 79
    },
    {
      "id": "580f04ca-3de1-4db6-89ef-2a7abd24d2bb",
      "cell_type": "code",
      "source": "air.head(15)",
      "metadata": {
        "trusted": true
      },
      "outputs": [
        {
          "execution_count": 80,
          "output_type": "execute_result",
          "data": {
            "text/plain": "    Unnamed: 0  Ozone  Solar.R  Wind  Temp  Month  Day\n0            1   41.0    190.0   7.4    67      5    1\n1            2   36.0    118.0   8.0    72      5    2\n2            3   12.0    149.0  12.6    74      5    3\n3            4   18.0    313.0  11.5    62      5    4\n4            5    NaN      NaN  14.3    56      5    5\n5            6   28.0      NaN  14.9    66      5    6\n6            7   23.0    299.0   8.6    65      5    7\n7            8   19.0     99.0  13.8    59      5    8\n8            9    8.0     19.0  20.1    61      5    9\n9           10    NaN    194.0   8.6    69      5   10\n10          11    7.0      NaN   6.9    74      5   11\n11          12   16.0    256.0   9.7    69      5   12\n12          13   11.0    290.0   9.2    66      5   13\n13          14   14.0    274.0  10.9    68      5   14\n14          15   18.0     65.0  13.2    58      5   15",
            "text/html": "<div>\n<style scoped>\n    .dataframe tbody tr th:only-of-type {\n        vertical-align: middle;\n    }\n\n    .dataframe tbody tr th {\n        vertical-align: top;\n    }\n\n    .dataframe thead th {\n        text-align: right;\n    }\n</style>\n<table border=\"1\" class=\"dataframe\">\n  <thead>\n    <tr style=\"text-align: right;\">\n      <th></th>\n      <th>Unnamed: 0</th>\n      <th>Ozone</th>\n      <th>Solar.R</th>\n      <th>Wind</th>\n      <th>Temp</th>\n      <th>Month</th>\n      <th>Day</th>\n    </tr>\n  </thead>\n  <tbody>\n    <tr>\n      <th>0</th>\n      <td>1</td>\n      <td>41.0</td>\n      <td>190.0</td>\n      <td>7.4</td>\n      <td>67</td>\n      <td>5</td>\n      <td>1</td>\n    </tr>\n    <tr>\n      <th>1</th>\n      <td>2</td>\n      <td>36.0</td>\n      <td>118.0</td>\n      <td>8.0</td>\n      <td>72</td>\n      <td>5</td>\n      <td>2</td>\n    </tr>\n    <tr>\n      <th>2</th>\n      <td>3</td>\n      <td>12.0</td>\n      <td>149.0</td>\n      <td>12.6</td>\n      <td>74</td>\n      <td>5</td>\n      <td>3</td>\n    </tr>\n    <tr>\n      <th>3</th>\n      <td>4</td>\n      <td>18.0</td>\n      <td>313.0</td>\n      <td>11.5</td>\n      <td>62</td>\n      <td>5</td>\n      <td>4</td>\n    </tr>\n    <tr>\n      <th>4</th>\n      <td>5</td>\n      <td>NaN</td>\n      <td>NaN</td>\n      <td>14.3</td>\n      <td>56</td>\n      <td>5</td>\n      <td>5</td>\n    </tr>\n    <tr>\n      <th>5</th>\n      <td>6</td>\n      <td>28.0</td>\n      <td>NaN</td>\n      <td>14.9</td>\n      <td>66</td>\n      <td>5</td>\n      <td>6</td>\n    </tr>\n    <tr>\n      <th>6</th>\n      <td>7</td>\n      <td>23.0</td>\n      <td>299.0</td>\n      <td>8.6</td>\n      <td>65</td>\n      <td>5</td>\n      <td>7</td>\n    </tr>\n    <tr>\n      <th>7</th>\n      <td>8</td>\n      <td>19.0</td>\n      <td>99.0</td>\n      <td>13.8</td>\n      <td>59</td>\n      <td>5</td>\n      <td>8</td>\n    </tr>\n    <tr>\n      <th>8</th>\n      <td>9</td>\n      <td>8.0</td>\n      <td>19.0</td>\n      <td>20.1</td>\n      <td>61</td>\n      <td>5</td>\n      <td>9</td>\n    </tr>\n    <tr>\n      <th>9</th>\n      <td>10</td>\n      <td>NaN</td>\n      <td>194.0</td>\n      <td>8.6</td>\n      <td>69</td>\n      <td>5</td>\n      <td>10</td>\n    </tr>\n    <tr>\n      <th>10</th>\n      <td>11</td>\n      <td>7.0</td>\n      <td>NaN</td>\n      <td>6.9</td>\n      <td>74</td>\n      <td>5</td>\n      <td>11</td>\n    </tr>\n    <tr>\n      <th>11</th>\n      <td>12</td>\n      <td>16.0</td>\n      <td>256.0</td>\n      <td>9.7</td>\n      <td>69</td>\n      <td>5</td>\n      <td>12</td>\n    </tr>\n    <tr>\n      <th>12</th>\n      <td>13</td>\n      <td>11.0</td>\n      <td>290.0</td>\n      <td>9.2</td>\n      <td>66</td>\n      <td>5</td>\n      <td>13</td>\n    </tr>\n    <tr>\n      <th>13</th>\n      <td>14</td>\n      <td>14.0</td>\n      <td>274.0</td>\n      <td>10.9</td>\n      <td>68</td>\n      <td>5</td>\n      <td>14</td>\n    </tr>\n    <tr>\n      <th>14</th>\n      <td>15</td>\n      <td>18.0</td>\n      <td>65.0</td>\n      <td>13.2</td>\n      <td>58</td>\n      <td>5</td>\n      <td>15</td>\n    </tr>\n  </tbody>\n</table>\n</div>"
          },
          "metadata": {}
        }
      ],
      "execution_count": 80
    },
    {
      "id": "1eaa83df-557a-45ab-a445-38487f2ad863",
      "cell_type": "code",
      "source": "air.info()",
      "metadata": {
        "trusted": true
      },
      "outputs": [
        {
          "name": "stdout",
          "output_type": "stream",
          "text": "<class 'pandas.core.frame.DataFrame'>\nRangeIndex: 153 entries, 0 to 152\nData columns (total 7 columns):\n #   Column      Non-Null Count  Dtype  \n---  ------      --------------  -----  \n 0   Unnamed: 0  153 non-null    int64  \n 1   Ozone       116 non-null    float64\n 2   Solar.R     146 non-null    float64\n 3   Wind        153 non-null    float64\n 4   Temp        153 non-null    int64  \n 5   Month       153 non-null    int64  \n 6   Day         153 non-null    int64  \ndtypes: float64(3), int64(4)\nmemory usage: 8.4 KB\n"
        }
      ],
      "execution_count": 81
    },
    {
      "id": "2d2d80bb-a338-4293-9661-5c3d56bea3da",
      "cell_type": "code",
      "source": "air.describe()",
      "metadata": {
        "trusted": true
      },
      "outputs": [
        {
          "execution_count": 82,
          "output_type": "execute_result",
          "data": {
            "text/plain": "       Unnamed: 0       Ozone     Solar.R        Wind        Temp       Month  \\\ncount  153.000000  116.000000  146.000000  153.000000  153.000000  153.000000   \nmean    77.000000   42.129310  185.931507    9.957516   77.882353    6.993464   \nstd     44.311398   32.987885   90.058422    3.523001    9.465270    1.416522   \nmin      1.000000    1.000000    7.000000    1.700000   56.000000    5.000000   \n25%     39.000000   18.000000  115.750000    7.400000   72.000000    6.000000   \n50%     77.000000   31.500000  205.000000    9.700000   79.000000    7.000000   \n75%    115.000000   63.250000  258.750000   11.500000   85.000000    8.000000   \nmax    153.000000  168.000000  334.000000   20.700000   97.000000    9.000000   \n\n              Day  \ncount  153.000000  \nmean    15.803922  \nstd      8.864520  \nmin      1.000000  \n25%      8.000000  \n50%     16.000000  \n75%     23.000000  \nmax     31.000000  ",
            "text/html": "<div>\n<style scoped>\n    .dataframe tbody tr th:only-of-type {\n        vertical-align: middle;\n    }\n\n    .dataframe tbody tr th {\n        vertical-align: top;\n    }\n\n    .dataframe thead th {\n        text-align: right;\n    }\n</style>\n<table border=\"1\" class=\"dataframe\">\n  <thead>\n    <tr style=\"text-align: right;\">\n      <th></th>\n      <th>Unnamed: 0</th>\n      <th>Ozone</th>\n      <th>Solar.R</th>\n      <th>Wind</th>\n      <th>Temp</th>\n      <th>Month</th>\n      <th>Day</th>\n    </tr>\n  </thead>\n  <tbody>\n    <tr>\n      <th>count</th>\n      <td>153.000000</td>\n      <td>116.000000</td>\n      <td>146.000000</td>\n      <td>153.000000</td>\n      <td>153.000000</td>\n      <td>153.000000</td>\n      <td>153.000000</td>\n    </tr>\n    <tr>\n      <th>mean</th>\n      <td>77.000000</td>\n      <td>42.129310</td>\n      <td>185.931507</td>\n      <td>9.957516</td>\n      <td>77.882353</td>\n      <td>6.993464</td>\n      <td>15.803922</td>\n    </tr>\n    <tr>\n      <th>std</th>\n      <td>44.311398</td>\n      <td>32.987885</td>\n      <td>90.058422</td>\n      <td>3.523001</td>\n      <td>9.465270</td>\n      <td>1.416522</td>\n      <td>8.864520</td>\n    </tr>\n    <tr>\n      <th>min</th>\n      <td>1.000000</td>\n      <td>1.000000</td>\n      <td>7.000000</td>\n      <td>1.700000</td>\n      <td>56.000000</td>\n      <td>5.000000</td>\n      <td>1.000000</td>\n    </tr>\n    <tr>\n      <th>25%</th>\n      <td>39.000000</td>\n      <td>18.000000</td>\n      <td>115.750000</td>\n      <td>7.400000</td>\n      <td>72.000000</td>\n      <td>6.000000</td>\n      <td>8.000000</td>\n    </tr>\n    <tr>\n      <th>50%</th>\n      <td>77.000000</td>\n      <td>31.500000</td>\n      <td>205.000000</td>\n      <td>9.700000</td>\n      <td>79.000000</td>\n      <td>7.000000</td>\n      <td>16.000000</td>\n    </tr>\n    <tr>\n      <th>75%</th>\n      <td>115.000000</td>\n      <td>63.250000</td>\n      <td>258.750000</td>\n      <td>11.500000</td>\n      <td>85.000000</td>\n      <td>8.000000</td>\n      <td>23.000000</td>\n    </tr>\n    <tr>\n      <th>max</th>\n      <td>153.000000</td>\n      <td>168.000000</td>\n      <td>334.000000</td>\n      <td>20.700000</td>\n      <td>97.000000</td>\n      <td>9.000000</td>\n      <td>31.000000</td>\n    </tr>\n  </tbody>\n</table>\n</div>"
          },
          "metadata": {}
        }
      ],
      "execution_count": 82
    },
    {
      "id": "32c3f47c-a985-4f90-84b8-4d890954433d",
      "cell_type": "code",
      "source": "air.count()",
      "metadata": {
        "trusted": true
      },
      "outputs": [
        {
          "execution_count": 83,
          "output_type": "execute_result",
          "data": {
            "text/plain": "Unnamed: 0    153\nOzone         116\nSolar.R       146\nWind          153\nTemp          153\nMonth         153\nDay           153\ndtype: int64"
          },
          "metadata": {}
        }
      ],
      "execution_count": 83
    },
    {
      "id": "3f3da0d5-ec6a-4357-b96a-a2ecaaf48666",
      "cell_type": "code",
      "source": "air.isnull().sum()",
      "metadata": {
        "trusted": true
      },
      "outputs": [
        {
          "execution_count": 84,
          "output_type": "execute_result",
          "data": {
            "text/plain": "Unnamed: 0     0\nOzone         37\nSolar.R        7\nWind           0\nTemp           0\nMonth          0\nDay            0\ndtype: int64"
          },
          "metadata": {}
        }
      ],
      "execution_count": 84
    },
    {
      "id": "e98de39d-dfd3-4b85-a11c-8ae46a04cd34",
      "cell_type": "code",
      "source": "air.drop('Unnamed: 0',axis=1,inplace=True)",
      "metadata": {
        "trusted": true
      },
      "outputs": [],
      "execution_count": 85
    },
    {
      "id": "8f17d50b-990f-4362-bec8-6fbfb8bde924",
      "cell_type": "code",
      "source": "#1.Data Cleaning\nA=air.dropna()\nA.shape",
      "metadata": {
        "trusted": true
      },
      "outputs": [
        {
          "execution_count": 86,
          "output_type": "execute_result",
          "data": {
            "text/plain": "(111, 6)"
          },
          "metadata": {}
        }
      ],
      "execution_count": 86
    },
    {
      "id": "8da5b25a-e4c3-4860-9ce0-221a3d3471fe",
      "cell_type": "code",
      "source": "A=air.fillna(0)\nA.shape",
      "metadata": {
        "trusted": true
      },
      "outputs": [
        {
          "execution_count": 87,
          "output_type": "execute_result",
          "data": {
            "text/plain": "(153, 6)"
          },
          "metadata": {}
        }
      ],
      "execution_count": 87
    },
    {
      "id": "90fbd9f7-468d-49f0-bbcf-83e713e6a3eb",
      "cell_type": "code",
      "source": "#2.Error Correcting: Padding\n##(i)ForwardFill\nA=air.ffill()\nA.head(10)",
      "metadata": {
        "trusted": true
      },
      "outputs": [
        {
          "execution_count": 88,
          "output_type": "execute_result",
          "data": {
            "text/plain": "   Ozone  Solar.R  Wind  Temp  Month  Day\n0   41.0    190.0   7.4    67      5    1\n1   36.0    118.0   8.0    72      5    2\n2   12.0    149.0  12.6    74      5    3\n3   18.0    313.0  11.5    62      5    4\n4   18.0    313.0  14.3    56      5    5\n5   28.0    313.0  14.9    66      5    6\n6   23.0    299.0   8.6    65      5    7\n7   19.0     99.0  13.8    59      5    8\n8    8.0     19.0  20.1    61      5    9\n9    8.0    194.0   8.6    69      5   10",
            "text/html": "<div>\n<style scoped>\n    .dataframe tbody tr th:only-of-type {\n        vertical-align: middle;\n    }\n\n    .dataframe tbody tr th {\n        vertical-align: top;\n    }\n\n    .dataframe thead th {\n        text-align: right;\n    }\n</style>\n<table border=\"1\" class=\"dataframe\">\n  <thead>\n    <tr style=\"text-align: right;\">\n      <th></th>\n      <th>Ozone</th>\n      <th>Solar.R</th>\n      <th>Wind</th>\n      <th>Temp</th>\n      <th>Month</th>\n      <th>Day</th>\n    </tr>\n  </thead>\n  <tbody>\n    <tr>\n      <th>0</th>\n      <td>41.0</td>\n      <td>190.0</td>\n      <td>7.4</td>\n      <td>67</td>\n      <td>5</td>\n      <td>1</td>\n    </tr>\n    <tr>\n      <th>1</th>\n      <td>36.0</td>\n      <td>118.0</td>\n      <td>8.0</td>\n      <td>72</td>\n      <td>5</td>\n      <td>2</td>\n    </tr>\n    <tr>\n      <th>2</th>\n      <td>12.0</td>\n      <td>149.0</td>\n      <td>12.6</td>\n      <td>74</td>\n      <td>5</td>\n      <td>3</td>\n    </tr>\n    <tr>\n      <th>3</th>\n      <td>18.0</td>\n      <td>313.0</td>\n      <td>11.5</td>\n      <td>62</td>\n      <td>5</td>\n      <td>4</td>\n    </tr>\n    <tr>\n      <th>4</th>\n      <td>18.0</td>\n      <td>313.0</td>\n      <td>14.3</td>\n      <td>56</td>\n      <td>5</td>\n      <td>5</td>\n    </tr>\n    <tr>\n      <th>5</th>\n      <td>28.0</td>\n      <td>313.0</td>\n      <td>14.9</td>\n      <td>66</td>\n      <td>5</td>\n      <td>6</td>\n    </tr>\n    <tr>\n      <th>6</th>\n      <td>23.0</td>\n      <td>299.0</td>\n      <td>8.6</td>\n      <td>65</td>\n      <td>5</td>\n      <td>7</td>\n    </tr>\n    <tr>\n      <th>7</th>\n      <td>19.0</td>\n      <td>99.0</td>\n      <td>13.8</td>\n      <td>59</td>\n      <td>5</td>\n      <td>8</td>\n    </tr>\n    <tr>\n      <th>8</th>\n      <td>8.0</td>\n      <td>19.0</td>\n      <td>20.1</td>\n      <td>61</td>\n      <td>5</td>\n      <td>9</td>\n    </tr>\n    <tr>\n      <th>9</th>\n      <td>8.0</td>\n      <td>194.0</td>\n      <td>8.6</td>\n      <td>69</td>\n      <td>5</td>\n      <td>10</td>\n    </tr>\n  </tbody>\n</table>\n</div>"
          },
          "metadata": {}
        }
      ],
      "execution_count": 88
    },
    {
      "id": "fc7e775b-1e54-43d5-8bb1-6d6de59e69aa",
      "cell_type": "code",
      "source": "#2.Error Correcting :Padding\n##(ii)BackwardFill\nA=air.bfill()\nA.head(10)",
      "metadata": {
        "trusted": true
      },
      "outputs": [
        {
          "execution_count": 89,
          "output_type": "execute_result",
          "data": {
            "text/plain": "   Ozone  Solar.R  Wind  Temp  Month  Day\n0   41.0    190.0   7.4    67      5    1\n1   36.0    118.0   8.0    72      5    2\n2   12.0    149.0  12.6    74      5    3\n3   18.0    313.0  11.5    62      5    4\n4   28.0    299.0  14.3    56      5    5\n5   28.0    299.0  14.9    66      5    6\n6   23.0    299.0   8.6    65      5    7\n7   19.0     99.0  13.8    59      5    8\n8    8.0     19.0  20.1    61      5    9\n9    7.0    194.0   8.6    69      5   10",
            "text/html": "<div>\n<style scoped>\n    .dataframe tbody tr th:only-of-type {\n        vertical-align: middle;\n    }\n\n    .dataframe tbody tr th {\n        vertical-align: top;\n    }\n\n    .dataframe thead th {\n        text-align: right;\n    }\n</style>\n<table border=\"1\" class=\"dataframe\">\n  <thead>\n    <tr style=\"text-align: right;\">\n      <th></th>\n      <th>Ozone</th>\n      <th>Solar.R</th>\n      <th>Wind</th>\n      <th>Temp</th>\n      <th>Month</th>\n      <th>Day</th>\n    </tr>\n  </thead>\n  <tbody>\n    <tr>\n      <th>0</th>\n      <td>41.0</td>\n      <td>190.0</td>\n      <td>7.4</td>\n      <td>67</td>\n      <td>5</td>\n      <td>1</td>\n    </tr>\n    <tr>\n      <th>1</th>\n      <td>36.0</td>\n      <td>118.0</td>\n      <td>8.0</td>\n      <td>72</td>\n      <td>5</td>\n      <td>2</td>\n    </tr>\n    <tr>\n      <th>2</th>\n      <td>12.0</td>\n      <td>149.0</td>\n      <td>12.6</td>\n      <td>74</td>\n      <td>5</td>\n      <td>3</td>\n    </tr>\n    <tr>\n      <th>3</th>\n      <td>18.0</td>\n      <td>313.0</td>\n      <td>11.5</td>\n      <td>62</td>\n      <td>5</td>\n      <td>4</td>\n    </tr>\n    <tr>\n      <th>4</th>\n      <td>28.0</td>\n      <td>299.0</td>\n      <td>14.3</td>\n      <td>56</td>\n      <td>5</td>\n      <td>5</td>\n    </tr>\n    <tr>\n      <th>5</th>\n      <td>28.0</td>\n      <td>299.0</td>\n      <td>14.9</td>\n      <td>66</td>\n      <td>5</td>\n      <td>6</td>\n    </tr>\n    <tr>\n      <th>6</th>\n      <td>23.0</td>\n      <td>299.0</td>\n      <td>8.6</td>\n      <td>65</td>\n      <td>5</td>\n      <td>7</td>\n    </tr>\n    <tr>\n      <th>7</th>\n      <td>19.0</td>\n      <td>99.0</td>\n      <td>13.8</td>\n      <td>59</td>\n      <td>5</td>\n      <td>8</td>\n    </tr>\n    <tr>\n      <th>8</th>\n      <td>8.0</td>\n      <td>19.0</td>\n      <td>20.1</td>\n      <td>61</td>\n      <td>5</td>\n      <td>9</td>\n    </tr>\n    <tr>\n      <th>9</th>\n      <td>7.0</td>\n      <td>194.0</td>\n      <td>8.6</td>\n      <td>69</td>\n      <td>5</td>\n      <td>10</td>\n    </tr>\n  </tbody>\n</table>\n</div>"
          },
          "metadata": {}
        }
      ],
      "execution_count": 89
    },
    {
      "id": "6bc1fdee-6f95-4022-b9ce-2a87f615cf0b",
      "cell_type": "code",
      "source": "#2.Error Correcting :Replace NaN values with mean,median,variance!\nA=air['Ozone'].replace(np.nan,air['Ozone'].mean())\nA.head(5)",
      "metadata": {
        "trusted": true
      },
      "outputs": [
        {
          "execution_count": 90,
          "output_type": "execute_result",
          "data": {
            "text/plain": "0    41.00000\n1    36.00000\n2    12.00000\n3    18.00000\n4    42.12931\nName: Ozone, dtype: float64"
          },
          "metadata": {}
        }
      ],
      "execution_count": 90
    },
    {
      "id": "7849827e-bcb9-4574-9454-6fafdd485013",
      "cell_type": "code",
      "source": "#2.Error Correcting :SimpleImputer with strategy='mean'or'most_frequent'!\nimp=SimpleImputer(missing_values=np.nan,strategy='mean')\nA=imp.fit_transform(air)\nA=pd.DataFrame(A,columns=air.columns)\nA",
      "metadata": {
        "trusted": true
      },
      "outputs": [
        {
          "execution_count": 91,
          "output_type": "execute_result",
          "data": {
            "text/plain": "        Ozone     Solar.R  Wind  Temp  Month   Day\n0    41.00000  190.000000   7.4  67.0    5.0   1.0\n1    36.00000  118.000000   8.0  72.0    5.0   2.0\n2    12.00000  149.000000  12.6  74.0    5.0   3.0\n3    18.00000  313.000000  11.5  62.0    5.0   4.0\n4    42.12931  185.931507  14.3  56.0    5.0   5.0\n..        ...         ...   ...   ...    ...   ...\n148  30.00000  193.000000   6.9  70.0    9.0  26.0\n149  42.12931  145.000000  13.2  77.0    9.0  27.0\n150  14.00000  191.000000  14.3  75.0    9.0  28.0\n151  18.00000  131.000000   8.0  76.0    9.0  29.0\n152  20.00000  223.000000  11.5  68.0    9.0  30.0\n\n[153 rows x 6 columns]",
            "text/html": "<div>\n<style scoped>\n    .dataframe tbody tr th:only-of-type {\n        vertical-align: middle;\n    }\n\n    .dataframe tbody tr th {\n        vertical-align: top;\n    }\n\n    .dataframe thead th {\n        text-align: right;\n    }\n</style>\n<table border=\"1\" class=\"dataframe\">\n  <thead>\n    <tr style=\"text-align: right;\">\n      <th></th>\n      <th>Ozone</th>\n      <th>Solar.R</th>\n      <th>Wind</th>\n      <th>Temp</th>\n      <th>Month</th>\n      <th>Day</th>\n    </tr>\n  </thead>\n  <tbody>\n    <tr>\n      <th>0</th>\n      <td>41.00000</td>\n      <td>190.000000</td>\n      <td>7.4</td>\n      <td>67.0</td>\n      <td>5.0</td>\n      <td>1.0</td>\n    </tr>\n    <tr>\n      <th>1</th>\n      <td>36.00000</td>\n      <td>118.000000</td>\n      <td>8.0</td>\n      <td>72.0</td>\n      <td>5.0</td>\n      <td>2.0</td>\n    </tr>\n    <tr>\n      <th>2</th>\n      <td>12.00000</td>\n      <td>149.000000</td>\n      <td>12.6</td>\n      <td>74.0</td>\n      <td>5.0</td>\n      <td>3.0</td>\n    </tr>\n    <tr>\n      <th>3</th>\n      <td>18.00000</td>\n      <td>313.000000</td>\n      <td>11.5</td>\n      <td>62.0</td>\n      <td>5.0</td>\n      <td>4.0</td>\n    </tr>\n    <tr>\n      <th>4</th>\n      <td>42.12931</td>\n      <td>185.931507</td>\n      <td>14.3</td>\n      <td>56.0</td>\n      <td>5.0</td>\n      <td>5.0</td>\n    </tr>\n    <tr>\n      <th>...</th>\n      <td>...</td>\n      <td>...</td>\n      <td>...</td>\n      <td>...</td>\n      <td>...</td>\n      <td>...</td>\n    </tr>\n    <tr>\n      <th>148</th>\n      <td>30.00000</td>\n      <td>193.000000</td>\n      <td>6.9</td>\n      <td>70.0</td>\n      <td>9.0</td>\n      <td>26.0</td>\n    </tr>\n    <tr>\n      <th>149</th>\n      <td>42.12931</td>\n      <td>145.000000</td>\n      <td>13.2</td>\n      <td>77.0</td>\n      <td>9.0</td>\n      <td>27.0</td>\n    </tr>\n    <tr>\n      <th>150</th>\n      <td>14.00000</td>\n      <td>191.000000</td>\n      <td>14.3</td>\n      <td>75.0</td>\n      <td>9.0</td>\n      <td>28.0</td>\n    </tr>\n    <tr>\n      <th>151</th>\n      <td>18.00000</td>\n      <td>131.000000</td>\n      <td>8.0</td>\n      <td>76.0</td>\n      <td>9.0</td>\n      <td>29.0</td>\n    </tr>\n    <tr>\n      <th>152</th>\n      <td>20.00000</td>\n      <td>223.000000</td>\n      <td>11.5</td>\n      <td>68.0</td>\n      <td>9.0</td>\n      <td>30.0</td>\n    </tr>\n  </tbody>\n</table>\n<p>153 rows × 6 columns</p>\n</div>"
          },
          "metadata": {}
        }
      ],
      "execution_count": 91
    },
    {
      "id": "b6355ba8-e54d-4f37-8534-1b726592907c",
      "cell_type": "code",
      "source": "#3.Data Tranformation:StandardScaler\nscaler=StandardScaler()\nB=scaler.fit_transform(A)\npd.DataFrame(B).describe()",
      "metadata": {
        "trusted": true
      },
      "outputs": [
        {
          "execution_count": 92,
          "output_type": "execute_result",
          "data": {
            "text/plain": "                  0             1             2             3           4  \\\ncount  1.530000e+02  1.530000e+02  1.530000e+02  1.530000e+02  153.000000   \nmean  -2.322035e-17 -1.741526e-17 -2.322035e-17  7.430512e-16    0.000000   \nstd    1.003284e+00  1.003284e+00  1.003284e+00  1.003284e+00    1.003284   \nmin   -1.438115e+00 -2.040912e+00 -2.351584e+00 -2.319450e+00   -1.411916   \n25%   -7.388013e-01 -7.520217e-01 -7.283322e-01 -6.235080e-01   -0.703643   \n50%    0.000000e+00  9.203008e-02 -7.333578e-02  1.184665e-01    0.004629   \n75%    1.353414e-01  7.992086e-01  4.392701e-01  7.544446e-01    0.712902   \nmax    4.401158e+00  1.688885e+00  3.059256e+00  2.026401e+00    1.421174   \n\n                  5  \ncount  1.530000e+02  \nmean  -6.966105e-17  \nstd    1.003284e+00  \nmin   -1.675504e+00  \n25%   -8.832458e-01  \n50%    2.219211e-02  \n75%    8.144503e-01  \nmax    1.719888e+00  ",
            "text/html": "<div>\n<style scoped>\n    .dataframe tbody tr th:only-of-type {\n        vertical-align: middle;\n    }\n\n    .dataframe tbody tr th {\n        vertical-align: top;\n    }\n\n    .dataframe thead th {\n        text-align: right;\n    }\n</style>\n<table border=\"1\" class=\"dataframe\">\n  <thead>\n    <tr style=\"text-align: right;\">\n      <th></th>\n      <th>0</th>\n      <th>1</th>\n      <th>2</th>\n      <th>3</th>\n      <th>4</th>\n      <th>5</th>\n    </tr>\n  </thead>\n  <tbody>\n    <tr>\n      <th>count</th>\n      <td>1.530000e+02</td>\n      <td>1.530000e+02</td>\n      <td>1.530000e+02</td>\n      <td>1.530000e+02</td>\n      <td>153.000000</td>\n      <td>1.530000e+02</td>\n    </tr>\n    <tr>\n      <th>mean</th>\n      <td>-2.322035e-17</td>\n      <td>-1.741526e-17</td>\n      <td>-2.322035e-17</td>\n      <td>7.430512e-16</td>\n      <td>0.000000</td>\n      <td>-6.966105e-17</td>\n    </tr>\n    <tr>\n      <th>std</th>\n      <td>1.003284e+00</td>\n      <td>1.003284e+00</td>\n      <td>1.003284e+00</td>\n      <td>1.003284e+00</td>\n      <td>1.003284</td>\n      <td>1.003284e+00</td>\n    </tr>\n    <tr>\n      <th>min</th>\n      <td>-1.438115e+00</td>\n      <td>-2.040912e+00</td>\n      <td>-2.351584e+00</td>\n      <td>-2.319450e+00</td>\n      <td>-1.411916</td>\n      <td>-1.675504e+00</td>\n    </tr>\n    <tr>\n      <th>25%</th>\n      <td>-7.388013e-01</td>\n      <td>-7.520217e-01</td>\n      <td>-7.283322e-01</td>\n      <td>-6.235080e-01</td>\n      <td>-0.703643</td>\n      <td>-8.832458e-01</td>\n    </tr>\n    <tr>\n      <th>50%</th>\n      <td>0.000000e+00</td>\n      <td>9.203008e-02</td>\n      <td>-7.333578e-02</td>\n      <td>1.184665e-01</td>\n      <td>0.004629</td>\n      <td>2.219211e-02</td>\n    </tr>\n    <tr>\n      <th>75%</th>\n      <td>1.353414e-01</td>\n      <td>7.992086e-01</td>\n      <td>4.392701e-01</td>\n      <td>7.544446e-01</td>\n      <td>0.712902</td>\n      <td>8.144503e-01</td>\n    </tr>\n    <tr>\n      <th>max</th>\n      <td>4.401158e+00</td>\n      <td>1.688885e+00</td>\n      <td>3.059256e+00</td>\n      <td>2.026401e+00</td>\n      <td>1.421174</td>\n      <td>1.719888e+00</td>\n    </tr>\n  </tbody>\n</table>\n</div>"
          },
          "metadata": {}
        }
      ],
      "execution_count": 92
    },
    {
      "id": "87adb4b2-052f-44f6-a93c-b124b3d911ca",
      "cell_type": "code",
      "source": "#3.Data Tranformation:MinMaxScaler\nscaler=MinMaxScaler()\nB=scaler.fit_transform(A)\npd.DataFrame(B).describe()",
      "metadata": {
        "trusted": true
      },
      "outputs": [
        {
          "execution_count": 93,
          "output_type": "execute_result",
          "data": {
            "text/plain": "                0           1           2           3           4           5\ncount  153.000000  153.000000  153.000000  153.000000  153.000000  153.000000\nmean     0.246283    0.547191    0.434606    0.533716    0.498366    0.493464\nstd      0.171817    0.268992    0.185421    0.230860    0.354131    0.295484\nmin      0.000000    0.000000    0.000000    0.000000    0.000000    0.000000\n25%      0.119760    0.345566    0.300000    0.390244    0.250000    0.233333\n50%      0.246283    0.571865    0.421053    0.560976    0.500000    0.500000\n75%      0.269461    0.761468    0.515789    0.707317    0.750000    0.733333\nmax      1.000000    1.000000    1.000000    1.000000    1.000000    1.000000",
            "text/html": "<div>\n<style scoped>\n    .dataframe tbody tr th:only-of-type {\n        vertical-align: middle;\n    }\n\n    .dataframe tbody tr th {\n        vertical-align: top;\n    }\n\n    .dataframe thead th {\n        text-align: right;\n    }\n</style>\n<table border=\"1\" class=\"dataframe\">\n  <thead>\n    <tr style=\"text-align: right;\">\n      <th></th>\n      <th>0</th>\n      <th>1</th>\n      <th>2</th>\n      <th>3</th>\n      <th>4</th>\n      <th>5</th>\n    </tr>\n  </thead>\n  <tbody>\n    <tr>\n      <th>count</th>\n      <td>153.000000</td>\n      <td>153.000000</td>\n      <td>153.000000</td>\n      <td>153.000000</td>\n      <td>153.000000</td>\n      <td>153.000000</td>\n    </tr>\n    <tr>\n      <th>mean</th>\n      <td>0.246283</td>\n      <td>0.547191</td>\n      <td>0.434606</td>\n      <td>0.533716</td>\n      <td>0.498366</td>\n      <td>0.493464</td>\n    </tr>\n    <tr>\n      <th>std</th>\n      <td>0.171817</td>\n      <td>0.268992</td>\n      <td>0.185421</td>\n      <td>0.230860</td>\n      <td>0.354131</td>\n      <td>0.295484</td>\n    </tr>\n    <tr>\n      <th>min</th>\n      <td>0.000000</td>\n      <td>0.000000</td>\n      <td>0.000000</td>\n      <td>0.000000</td>\n      <td>0.000000</td>\n      <td>0.000000</td>\n    </tr>\n    <tr>\n      <th>25%</th>\n      <td>0.119760</td>\n      <td>0.345566</td>\n      <td>0.300000</td>\n      <td>0.390244</td>\n      <td>0.250000</td>\n      <td>0.233333</td>\n    </tr>\n    <tr>\n      <th>50%</th>\n      <td>0.246283</td>\n      <td>0.571865</td>\n      <td>0.421053</td>\n      <td>0.560976</td>\n      <td>0.500000</td>\n      <td>0.500000</td>\n    </tr>\n    <tr>\n      <th>75%</th>\n      <td>0.269461</td>\n      <td>0.761468</td>\n      <td>0.515789</td>\n      <td>0.707317</td>\n      <td>0.750000</td>\n      <td>0.733333</td>\n    </tr>\n    <tr>\n      <th>max</th>\n      <td>1.000000</td>\n      <td>1.000000</td>\n      <td>1.000000</td>\n      <td>1.000000</td>\n      <td>1.000000</td>\n      <td>1.000000</td>\n    </tr>\n  </tbody>\n</table>\n</div>"
          },
          "metadata": {}
        }
      ],
      "execution_count": 93
    },
    {
      "id": "fbbeb852-2a06-4053-891b-64aebb52af21",
      "cell_type": "code",
      "source": "#3.Data Tranformation:Binarization\nbinz=Binarizer(threshold=0.5)\nB=binz.fit_transform(A)\npd.DataFrame(B)",
      "metadata": {
        "trusted": true
      },
      "outputs": [
        {
          "execution_count": 101,
          "output_type": "execute_result",
          "data": {
            "text/plain": "       0    1    2    3    4    5\n0    1.0  1.0  1.0  1.0  1.0  1.0\n1    1.0  1.0  1.0  1.0  1.0  1.0\n2    1.0  1.0  1.0  1.0  1.0  1.0\n3    1.0  1.0  1.0  1.0  1.0  1.0\n4    1.0  1.0  1.0  1.0  1.0  1.0\n..   ...  ...  ...  ...  ...  ...\n148  1.0  1.0  1.0  1.0  1.0  1.0\n149  1.0  1.0  1.0  1.0  1.0  1.0\n150  1.0  1.0  1.0  1.0  1.0  1.0\n151  1.0  1.0  1.0  1.0  1.0  1.0\n152  1.0  1.0  1.0  1.0  1.0  1.0\n\n[153 rows x 6 columns]",
            "text/html": "<div>\n<style scoped>\n    .dataframe tbody tr th:only-of-type {\n        vertical-align: middle;\n    }\n\n    .dataframe tbody tr th {\n        vertical-align: top;\n    }\n\n    .dataframe thead th {\n        text-align: right;\n    }\n</style>\n<table border=\"1\" class=\"dataframe\">\n  <thead>\n    <tr style=\"text-align: right;\">\n      <th></th>\n      <th>0</th>\n      <th>1</th>\n      <th>2</th>\n      <th>3</th>\n      <th>4</th>\n      <th>5</th>\n    </tr>\n  </thead>\n  <tbody>\n    <tr>\n      <th>0</th>\n      <td>1.0</td>\n      <td>1.0</td>\n      <td>1.0</td>\n      <td>1.0</td>\n      <td>1.0</td>\n      <td>1.0</td>\n    </tr>\n    <tr>\n      <th>1</th>\n      <td>1.0</td>\n      <td>1.0</td>\n      <td>1.0</td>\n      <td>1.0</td>\n      <td>1.0</td>\n      <td>1.0</td>\n    </tr>\n    <tr>\n      <th>2</th>\n      <td>1.0</td>\n      <td>1.0</td>\n      <td>1.0</td>\n      <td>1.0</td>\n      <td>1.0</td>\n      <td>1.0</td>\n    </tr>\n    <tr>\n      <th>3</th>\n      <td>1.0</td>\n      <td>1.0</td>\n      <td>1.0</td>\n      <td>1.0</td>\n      <td>1.0</td>\n      <td>1.0</td>\n    </tr>\n    <tr>\n      <th>4</th>\n      <td>1.0</td>\n      <td>1.0</td>\n      <td>1.0</td>\n      <td>1.0</td>\n      <td>1.0</td>\n      <td>1.0</td>\n    </tr>\n    <tr>\n      <th>...</th>\n      <td>...</td>\n      <td>...</td>\n      <td>...</td>\n      <td>...</td>\n      <td>...</td>\n      <td>...</td>\n    </tr>\n    <tr>\n      <th>148</th>\n      <td>1.0</td>\n      <td>1.0</td>\n      <td>1.0</td>\n      <td>1.0</td>\n      <td>1.0</td>\n      <td>1.0</td>\n    </tr>\n    <tr>\n      <th>149</th>\n      <td>1.0</td>\n      <td>1.0</td>\n      <td>1.0</td>\n      <td>1.0</td>\n      <td>1.0</td>\n      <td>1.0</td>\n    </tr>\n    <tr>\n      <th>150</th>\n      <td>1.0</td>\n      <td>1.0</td>\n      <td>1.0</td>\n      <td>1.0</td>\n      <td>1.0</td>\n      <td>1.0</td>\n    </tr>\n    <tr>\n      <th>151</th>\n      <td>1.0</td>\n      <td>1.0</td>\n      <td>1.0</td>\n      <td>1.0</td>\n      <td>1.0</td>\n      <td>1.0</td>\n    </tr>\n    <tr>\n      <th>152</th>\n      <td>1.0</td>\n      <td>1.0</td>\n      <td>1.0</td>\n      <td>1.0</td>\n      <td>1.0</td>\n      <td>1.0</td>\n    </tr>\n  </tbody>\n</table>\n<p>153 rows × 6 columns</p>\n</div>"
          },
          "metadata": {}
        }
      ],
      "execution_count": 101
    },
    {
      "id": "3be53f05-0c99-4290-afe4-e0660b2ca2fe",
      "cell_type": "code",
      "source": "#Data Model Building\ntrain,test=train_test_split(A, test_size=0.20)",
      "metadata": {
        "trusted": true
      },
      "outputs": [],
      "execution_count": 103
    },
    {
      "id": "ab4331ab-47a8-4370-8226-a0b5c004ce27",
      "cell_type": "code",
      "source": "X= A['Ozone'].values\nX=X.reshape(-1,1)\nY= A['Temp'].values",
      "metadata": {
        "trusted": true
      },
      "outputs": [],
      "execution_count": 110
    },
    {
      "id": "0c298f15-67ea-4c48-bb3e-74281aad4b7a",
      "cell_type": "code",
      "source": "model=LinearRegression()\nmodel.fit(X,Y)",
      "metadata": {
        "trusted": true
      },
      "outputs": [
        {
          "execution_count": 111,
          "output_type": "execute_result",
          "data": {
            "text/plain": "LinearRegression()",
            "text/html": "<style>#sk-container-id-1 {\n  /* Definition of color scheme common for light and dark mode */\n  --sklearn-color-text: black;\n  --sklearn-color-line: gray;\n  /* Definition of color scheme for unfitted estimators */\n  --sklearn-color-unfitted-level-0: #fff5e6;\n  --sklearn-color-unfitted-level-1: #f6e4d2;\n  --sklearn-color-unfitted-level-2: #ffe0b3;\n  --sklearn-color-unfitted-level-3: chocolate;\n  /* Definition of color scheme for fitted estimators */\n  --sklearn-color-fitted-level-0: #f0f8ff;\n  --sklearn-color-fitted-level-1: #d4ebff;\n  --sklearn-color-fitted-level-2: #b3dbfd;\n  --sklearn-color-fitted-level-3: cornflowerblue;\n\n  /* Specific color for light theme */\n  --sklearn-color-text-on-default-background: var(--sg-text-color, var(--theme-code-foreground, var(--jp-content-font-color1, black)));\n  --sklearn-color-background: var(--sg-background-color, var(--theme-background, var(--jp-layout-color0, white)));\n  --sklearn-color-border-box: var(--sg-text-color, var(--theme-code-foreground, var(--jp-content-font-color1, black)));\n  --sklearn-color-icon: #696969;\n\n  @media (prefers-color-scheme: dark) {\n    /* Redefinition of color scheme for dark theme */\n    --sklearn-color-text-on-default-background: var(--sg-text-color, var(--theme-code-foreground, var(--jp-content-font-color1, white)));\n    --sklearn-color-background: var(--sg-background-color, var(--theme-background, var(--jp-layout-color0, #111)));\n    --sklearn-color-border-box: var(--sg-text-color, var(--theme-code-foreground, var(--jp-content-font-color1, white)));\n    --sklearn-color-icon: #878787;\n  }\n}\n\n#sk-container-id-1 {\n  color: var(--sklearn-color-text);\n}\n\n#sk-container-id-1 pre {\n  padding: 0;\n}\n\n#sk-container-id-1 input.sk-hidden--visually {\n  border: 0;\n  clip: rect(1px 1px 1px 1px);\n  clip: rect(1px, 1px, 1px, 1px);\n  height: 1px;\n  margin: -1px;\n  overflow: hidden;\n  padding: 0;\n  position: absolute;\n  width: 1px;\n}\n\n#sk-container-id-1 div.sk-dashed-wrapped {\n  border: 1px dashed var(--sklearn-color-line);\n  margin: 0 0.4em 0.5em 0.4em;\n  box-sizing: border-box;\n  padding-bottom: 0.4em;\n  background-color: var(--sklearn-color-background);\n}\n\n#sk-container-id-1 div.sk-container {\n  /* jupyter's `normalize.less` sets `[hidden] { display: none; }`\n     but bootstrap.min.css set `[hidden] { display: none !important; }`\n     so we also need the `!important` here to be able to override the\n     default hidden behavior on the sphinx rendered scikit-learn.org.\n     See: https://github.com/scikit-learn/scikit-learn/issues/21755 */\n  display: inline-block !important;\n  position: relative;\n}\n\n#sk-container-id-1 div.sk-text-repr-fallback {\n  display: none;\n}\n\ndiv.sk-parallel-item,\ndiv.sk-serial,\ndiv.sk-item {\n  /* draw centered vertical line to link estimators */\n  background-image: linear-gradient(var(--sklearn-color-text-on-default-background), var(--sklearn-color-text-on-default-background));\n  background-size: 2px 100%;\n  background-repeat: no-repeat;\n  background-position: center center;\n}\n\n/* Parallel-specific style estimator block */\n\n#sk-container-id-1 div.sk-parallel-item::after {\n  content: \"\";\n  width: 100%;\n  border-bottom: 2px solid var(--sklearn-color-text-on-default-background);\n  flex-grow: 1;\n}\n\n#sk-container-id-1 div.sk-parallel {\n  display: flex;\n  align-items: stretch;\n  justify-content: center;\n  background-color: var(--sklearn-color-background);\n  position: relative;\n}\n\n#sk-container-id-1 div.sk-parallel-item {\n  display: flex;\n  flex-direction: column;\n}\n\n#sk-container-id-1 div.sk-parallel-item:first-child::after {\n  align-self: flex-end;\n  width: 50%;\n}\n\n#sk-container-id-1 div.sk-parallel-item:last-child::after {\n  align-self: flex-start;\n  width: 50%;\n}\n\n#sk-container-id-1 div.sk-parallel-item:only-child::after {\n  width: 0;\n}\n\n/* Serial-specific style estimator block */\n\n#sk-container-id-1 div.sk-serial {\n  display: flex;\n  flex-direction: column;\n  align-items: center;\n  background-color: var(--sklearn-color-background);\n  padding-right: 1em;\n  padding-left: 1em;\n}\n\n\n/* Toggleable style: style used for estimator/Pipeline/ColumnTransformer box that is\nclickable and can be expanded/collapsed.\n- Pipeline and ColumnTransformer use this feature and define the default style\n- Estimators will overwrite some part of the style using the `sk-estimator` class\n*/\n\n/* Pipeline and ColumnTransformer style (default) */\n\n#sk-container-id-1 div.sk-toggleable {\n  /* Default theme specific background. It is overwritten whether we have a\n  specific estimator or a Pipeline/ColumnTransformer */\n  background-color: var(--sklearn-color-background);\n}\n\n/* Toggleable label */\n#sk-container-id-1 label.sk-toggleable__label {\n  cursor: pointer;\n  display: block;\n  width: 100%;\n  margin-bottom: 0;\n  padding: 0.5em;\n  box-sizing: border-box;\n  text-align: center;\n}\n\n#sk-container-id-1 label.sk-toggleable__label-arrow:before {\n  /* Arrow on the left of the label */\n  content: \"▸\";\n  float: left;\n  margin-right: 0.25em;\n  color: var(--sklearn-color-icon);\n}\n\n#sk-container-id-1 label.sk-toggleable__label-arrow:hover:before {\n  color: var(--sklearn-color-text);\n}\n\n/* Toggleable content - dropdown */\n\n#sk-container-id-1 div.sk-toggleable__content {\n  max-height: 0;\n  max-width: 0;\n  overflow: hidden;\n  text-align: left;\n  /* unfitted */\n  background-color: var(--sklearn-color-unfitted-level-0);\n}\n\n#sk-container-id-1 div.sk-toggleable__content.fitted {\n  /* fitted */\n  background-color: var(--sklearn-color-fitted-level-0);\n}\n\n#sk-container-id-1 div.sk-toggleable__content pre {\n  margin: 0.2em;\n  border-radius: 0.25em;\n  color: var(--sklearn-color-text);\n  /* unfitted */\n  background-color: var(--sklearn-color-unfitted-level-0);\n}\n\n#sk-container-id-1 div.sk-toggleable__content.fitted pre {\n  /* unfitted */\n  background-color: var(--sklearn-color-fitted-level-0);\n}\n\n#sk-container-id-1 input.sk-toggleable__control:checked~div.sk-toggleable__content {\n  /* Expand drop-down */\n  max-height: 200px;\n  max-width: 100%;\n  overflow: auto;\n}\n\n#sk-container-id-1 input.sk-toggleable__control:checked~label.sk-toggleable__label-arrow:before {\n  content: \"▾\";\n}\n\n/* Pipeline/ColumnTransformer-specific style */\n\n#sk-container-id-1 div.sk-label input.sk-toggleable__control:checked~label.sk-toggleable__label {\n  color: var(--sklearn-color-text);\n  background-color: var(--sklearn-color-unfitted-level-2);\n}\n\n#sk-container-id-1 div.sk-label.fitted input.sk-toggleable__control:checked~label.sk-toggleable__label {\n  background-color: var(--sklearn-color-fitted-level-2);\n}\n\n/* Estimator-specific style */\n\n/* Colorize estimator box */\n#sk-container-id-1 div.sk-estimator input.sk-toggleable__control:checked~label.sk-toggleable__label {\n  /* unfitted */\n  background-color: var(--sklearn-color-unfitted-level-2);\n}\n\n#sk-container-id-1 div.sk-estimator.fitted input.sk-toggleable__control:checked~label.sk-toggleable__label {\n  /* fitted */\n  background-color: var(--sklearn-color-fitted-level-2);\n}\n\n#sk-container-id-1 div.sk-label label.sk-toggleable__label,\n#sk-container-id-1 div.sk-label label {\n  /* The background is the default theme color */\n  color: var(--sklearn-color-text-on-default-background);\n}\n\n/* On hover, darken the color of the background */\n#sk-container-id-1 div.sk-label:hover label.sk-toggleable__label {\n  color: var(--sklearn-color-text);\n  background-color: var(--sklearn-color-unfitted-level-2);\n}\n\n/* Label box, darken color on hover, fitted */\n#sk-container-id-1 div.sk-label.fitted:hover label.sk-toggleable__label.fitted {\n  color: var(--sklearn-color-text);\n  background-color: var(--sklearn-color-fitted-level-2);\n}\n\n/* Estimator label */\n\n#sk-container-id-1 div.sk-label label {\n  font-family: monospace;\n  font-weight: bold;\n  display: inline-block;\n  line-height: 1.2em;\n}\n\n#sk-container-id-1 div.sk-label-container {\n  text-align: center;\n}\n\n/* Estimator-specific */\n#sk-container-id-1 div.sk-estimator {\n  font-family: monospace;\n  border: 1px dotted var(--sklearn-color-border-box);\n  border-radius: 0.25em;\n  box-sizing: border-box;\n  margin-bottom: 0.5em;\n  /* unfitted */\n  background-color: var(--sklearn-color-unfitted-level-0);\n}\n\n#sk-container-id-1 div.sk-estimator.fitted {\n  /* fitted */\n  background-color: var(--sklearn-color-fitted-level-0);\n}\n\n/* on hover */\n#sk-container-id-1 div.sk-estimator:hover {\n  /* unfitted */\n  background-color: var(--sklearn-color-unfitted-level-2);\n}\n\n#sk-container-id-1 div.sk-estimator.fitted:hover {\n  /* fitted */\n  background-color: var(--sklearn-color-fitted-level-2);\n}\n\n/* Specification for estimator info (e.g. \"i\" and \"?\") */\n\n/* Common style for \"i\" and \"?\" */\n\n.sk-estimator-doc-link,\na:link.sk-estimator-doc-link,\na:visited.sk-estimator-doc-link {\n  float: right;\n  font-size: smaller;\n  line-height: 1em;\n  font-family: monospace;\n  background-color: var(--sklearn-color-background);\n  border-radius: 1em;\n  height: 1em;\n  width: 1em;\n  text-decoration: none !important;\n  margin-left: 1ex;\n  /* unfitted */\n  border: var(--sklearn-color-unfitted-level-1) 1pt solid;\n  color: var(--sklearn-color-unfitted-level-1);\n}\n\n.sk-estimator-doc-link.fitted,\na:link.sk-estimator-doc-link.fitted,\na:visited.sk-estimator-doc-link.fitted {\n  /* fitted */\n  border: var(--sklearn-color-fitted-level-1) 1pt solid;\n  color: var(--sklearn-color-fitted-level-1);\n}\n\n/* On hover */\ndiv.sk-estimator:hover .sk-estimator-doc-link:hover,\n.sk-estimator-doc-link:hover,\ndiv.sk-label-container:hover .sk-estimator-doc-link:hover,\n.sk-estimator-doc-link:hover {\n  /* unfitted */\n  background-color: var(--sklearn-color-unfitted-level-3);\n  color: var(--sklearn-color-background);\n  text-decoration: none;\n}\n\ndiv.sk-estimator.fitted:hover .sk-estimator-doc-link.fitted:hover,\n.sk-estimator-doc-link.fitted:hover,\ndiv.sk-label-container:hover .sk-estimator-doc-link.fitted:hover,\n.sk-estimator-doc-link.fitted:hover {\n  /* fitted */\n  background-color: var(--sklearn-color-fitted-level-3);\n  color: var(--sklearn-color-background);\n  text-decoration: none;\n}\n\n/* Span, style for the box shown on hovering the info icon */\n.sk-estimator-doc-link span {\n  display: none;\n  z-index: 9999;\n  position: relative;\n  font-weight: normal;\n  right: .2ex;\n  padding: .5ex;\n  margin: .5ex;\n  width: min-content;\n  min-width: 20ex;\n  max-width: 50ex;\n  color: var(--sklearn-color-text);\n  box-shadow: 2pt 2pt 4pt #999;\n  /* unfitted */\n  background: var(--sklearn-color-unfitted-level-0);\n  border: .5pt solid var(--sklearn-color-unfitted-level-3);\n}\n\n.sk-estimator-doc-link.fitted span {\n  /* fitted */\n  background: var(--sklearn-color-fitted-level-0);\n  border: var(--sklearn-color-fitted-level-3);\n}\n\n.sk-estimator-doc-link:hover span {\n  display: block;\n}\n\n/* \"?\"-specific style due to the `<a>` HTML tag */\n\n#sk-container-id-1 a.estimator_doc_link {\n  float: right;\n  font-size: 1rem;\n  line-height: 1em;\n  font-family: monospace;\n  background-color: var(--sklearn-color-background);\n  border-radius: 1rem;\n  height: 1rem;\n  width: 1rem;\n  text-decoration: none;\n  /* unfitted */\n  color: var(--sklearn-color-unfitted-level-1);\n  border: var(--sklearn-color-unfitted-level-1) 1pt solid;\n}\n\n#sk-container-id-1 a.estimator_doc_link.fitted {\n  /* fitted */\n  border: var(--sklearn-color-fitted-level-1) 1pt solid;\n  color: var(--sklearn-color-fitted-level-1);\n}\n\n/* On hover */\n#sk-container-id-1 a.estimator_doc_link:hover {\n  /* unfitted */\n  background-color: var(--sklearn-color-unfitted-level-3);\n  color: var(--sklearn-color-background);\n  text-decoration: none;\n}\n\n#sk-container-id-1 a.estimator_doc_link.fitted:hover {\n  /* fitted */\n  background-color: var(--sklearn-color-fitted-level-3);\n}\n</style><div id=\"sk-container-id-1\" class=\"sk-top-container\"><div class=\"sk-text-repr-fallback\"><pre>LinearRegression()</pre><b>In a Jupyter environment, please rerun this cell to show the HTML representation or trust the notebook. <br />On GitHub, the HTML representation is unable to render, please try loading this page with nbviewer.org.</b></div><div class=\"sk-container\" hidden><div class=\"sk-item\"><div class=\"sk-estimator fitted sk-toggleable\"><input class=\"sk-toggleable__control sk-hidden--visually\" id=\"sk-estimator-id-1\" type=\"checkbox\" checked><label for=\"sk-estimator-id-1\" class=\"sk-toggleable__label fitted sk-toggleable__label-arrow fitted\">&nbsp;&nbsp;LinearRegression<a class=\"sk-estimator-doc-link fitted\" rel=\"noreferrer\" target=\"_blank\" href=\"https://scikit-learn.org/1.5/modules/generated/sklearn.linear_model.LinearRegression.html\">?<span>Documentation for LinearRegression</span></a><span class=\"sk-estimator-doc-link fitted\">i<span>Fitted</span></span></label><div class=\"sk-toggleable__content fitted\"><pre>LinearRegression()</pre></div> </div></div></div></div>"
          },
          "metadata": {}
        }
      ],
      "execution_count": 111
    },
    {
      "id": "a9fb0ead-2019-4e2f-ab6a-f584d1c063f2",
      "cell_type": "code",
      "source": "model.score(X,Y)*100",
      "metadata": {
        "trusted": true
      },
      "outputs": [
        {
          "execution_count": 112,
          "output_type": "execute_result",
          "data": {
            "text/plain": "37.056682983646425"
          },
          "metadata": {}
        }
      ],
      "execution_count": 112
    },
    {
      "id": "3bdd76a4-50f8-4d1c-a15d-dcbe1684ee21",
      "cell_type": "code",
      "source": "model.predict([[128]])",
      "metadata": {
        "trusted": true
      },
      "outputs": [
        {
          "execution_count": 113,
          "output_type": "execute_result",
          "data": {
            "text/plain": "array([95.12601986])"
          },
          "metadata": {}
        }
      ],
      "execution_count": 113
    },
    {
      "id": "2e4ea1bd-1063-455f-85eb-7807e19dbef4",
      "cell_type": "code",
      "source": "plt.scatter(X,Y)\nplt.xlabel(\"OZONE\")\nplt.ylabel(\"TEMP\")\nplt.title('Ozone vs Temp')\n",
      "metadata": {
        "trusted": true
      },
      "outputs": [
        {
          "execution_count": 114,
          "output_type": "execute_result",
          "data": {
            "text/plain": "<matplotlib.collections.PathCollection at 0xce7f8d8>"
          },
          "metadata": {}
        },
        {
          "output_type": "display_data",
          "data": {
            "text/plain": "<Figure size 640x480 with 1 Axes>",
            "image/png": "[encoded data removed]"
          },
          "metadata": {}
        }
      ],
      "execution_count": 114
    },
    {
      "id": "f3a71f72-a6b1-43ee-aba0-8234ab044069",
      "cell_type": "code",
      "source": "",
      "metadata": {
        "trusted": true
      },
      "outputs": [],
      "execution_count": null
    }
  ]
}